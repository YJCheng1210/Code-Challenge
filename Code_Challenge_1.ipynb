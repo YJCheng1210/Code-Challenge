{
 "cells": [
  {
   "cell_type": "markdown",
   "metadata": {},
   "source": [
    "# 2022/5/2 Code Challenge"
   ]
  },
  {
   "cell_type": "code",
   "execution_count": 1,
   "metadata": {},
   "outputs": [
    {
     "name": "stdout",
     "output_type": "stream",
     "text": [
      "Correct names are: Eric, Michael, Terry, John, Graham, Terry, "
     ]
    }
   ],
   "source": [
    "# Your user registeration system had a bug, which got all\n",
    "# the names backwards. Write code to print names in proper\n",
    "# format, before users notive problem\n",
    "\n",
    "wrong_names = ['Yrret, Maharg, Nhoj, Yrret, Leahcim, Cire']\n",
    "correct_names = wrong_names[0][::-1].lower().split(' ,')\n",
    "\n",
    "print('Correct names are: ', end='')\n",
    "for name in correct_names:\n",
    "    print(name.title(), end=', ')"
   ]
  },
  {
   "cell_type": "markdown",
   "metadata": {},
   "source": [
    "# 2022/5/4 Code Challenge"
   ]
  },
  {
   "cell_type": "code",
   "execution_count": 2,
   "metadata": {},
   "outputs": [
    {
     "name": "stdout",
     "output_type": "stream",
     "text": [
      "q = ['CL,105.3', 'GC,1866.40', 'SI,22.85', 'CL,105.4', 'NG,7.525', 'CL,105.6', 'GC,1886.80', 'NG,7.535']\n",
      "# New queue should be\n",
      "new_q = ['CL,105.6', 'GC,1886.80', 'SI,22.85', 'NG,7.535']\n",
      "# and as each price is printed out, remove that price update\n",
      "Crude Oil(CL) 105.6, new_q = ['GC,1886.80', 'SI,22.85', 'NG,7.535']\n",
      "Gold(GC) 1886.80, new_q = ['SI,22.85', 'NG,7.535']\n",
      "Silver(SI) 22.85, new_q = ['NG,7.535']\n",
      "Natural Gas(NG) 7.535, new_q = []\n"
     ]
    }
   ],
   "source": [
    "# Your website shows oil(CL), natural gas(NG), gold(GC) and silver(SI) prices in 'real-time'\n",
    "# in fast markets. Price updates lag behind as queue overloads and users get upset.\n",
    "# Current code displays all updates in order they arrived to queue. Create new queue\n",
    "# handler that updates latest available price for each commodity, hopefully faster\n",
    "# new prices are added to end of list, and first position is read and then removed from queue\n",
    "\n",
    "q = ['CL,105.3', 'GC,1866.40', 'SI,22.85', 'CL,105.4', 'NG,7.525', 'CL,105.6', 'GC,1886.80', 'NG,7.535']\n",
    "codes = {'CL': 'Crude Oil', 'GC': 'Gold', 'SI': 'Silver', 'NG': 'Natural Gas', }\n",
    "new_q = []\n",
    "\n",
    "for item in q:\n",
    "    for item1 in new_q:\n",
    "        if item1[:2] == item[:2]:\n",
    "            new_q[new_q.index(item1)] = item\n",
    "            break\n",
    "    else:\n",
    "        new_q.append(item)\n",
    "\n",
    "print('q =', q)\n",
    "print('# New queue should be')\n",
    "print('new_q =', new_q)\n",
    "print('# and as each price is printed out, remove that price update')\n",
    "\n",
    "for i in range(len(new_q)):\n",
    "    info = new_q.pop(0)\n",
    "    code = info[:2]\n",
    "    price = info[3:]\n",
    "    print(f'{codes[code]}({code}) {price}, ', end ='')\n",
    "    print('new_q =', new_q)"
   ]
  },
  {
   "cell_type": "markdown",
   "metadata": {},
   "source": [
    "# 2022/5/6 Code Challenge"
   ]
  },
  {
   "cell_type": "code",
   "execution_count": 3,
   "metadata": {},
   "outputs": [
    {
     "name": "stdout",
     "output_type": "stream",
     "text": [
      "The twisted numbers are: 86, 684, 1912, 1430, 16, 148, "
     ]
    }
   ],
   "source": [
    "# Print out the reverse of the number with each digit doubled\n",
    "# example 426 -> (reverse) 624 -> (double) 1248\n",
    "\n",
    "numbers = [34, 243, 659, 517, 8, 47]\n",
    "\n",
    "def twist(num):\n",
    "    num1 = 0\n",
    "    while num != 0:\n",
    "        num1 = num1 * 10 + (num % 10)\n",
    "        num = int(num / 10)\n",
    "    return num1 * 2\n",
    "\n",
    "print('The twisted numbers are:', end=' ')\n",
    "for number in numbers:\n",
    "    print(twist(number), end=', ')"
   ]
  },
  {
   "cell_type": "markdown",
   "metadata": {},
   "source": [
    "# 2022/5/10 Code Challenge"
   ]
  },
  {
   "cell_type": "code",
   "execution_count": 4,
   "metadata": {},
   "outputs": [
    {
     "name": "stdout",
     "output_type": "stream",
     "text": [
      "C(6,6), D(4,8), E(11,2), B(5,2), A(3,3), "
     ]
    }
   ],
   "source": [
    "# A tropical paradise realtor has landplots below for sale\n",
    "# ['ID', length, width] in multiples of 10 m (5 = 50m) \n",
    "# Write code to help them sort list by plot area\n",
    "\n",
    "plot =[['A', 3, 3], ['B', 5, 2], ['C', 6, 6], ['D', 4, 8], ['E', 11, 2]]\n",
    "\n",
    "for item in sorted(plot, key=lambda plot: plot[1]*plot[2], reverse=True):\n",
    "    print (f'{item[0]}({item[1]},{item[2]})', end=', ')"
   ]
  },
  {
   "cell_type": "markdown",
   "metadata": {},
   "source": [
    "# 2022/5/13 Code Challenge"
   ]
  },
  {
   "cell_type": "code",
   "execution_count": 5,
   "metadata": {},
   "outputs": [
    {
     "name": "stdout",
     "output_type": "stream",
     "text": [
      "A - 7\n",
      "A - 8\n",
      "A - 9\n",
      "B - 7\n",
      "B - 8\n",
      "B - 9\n",
      "C - 8\n",
      "C - 9\n"
     ]
    }
   ],
   "source": [
    "# you have list of all shoes in your small store [model, size]\n",
    "# sort and print list of all shoes by model and size\n",
    "\n",
    "shoes = [['B', 9], ['A', 8], ['A', 7], ['C', 9],['A', 9], ['B', 7], ['C', 8], ['B', 8]]\n",
    "\n",
    "for list in sorted(shoes):\n",
    "    print(list[0],'-',list[1])"
   ]
  },
  {
   "cell_type": "markdown",
   "metadata": {},
   "source": [
    "# 2022/5/20 Code Challenge"
   ]
  },
  {
   "cell_type": "code",
   "execution_count": 6,
   "metadata": {},
   "outputs": [
    {
     "name": "stdout",
     "output_type": "stream",
     "text": [
      "0000xr0000000\n",
      "0000xr0000000\n",
      "0000xr0000000\n",
      "0000xrrrrr000\n",
      "0000xxxxxr000\n",
      "00000000xr000\n",
      "00xxxxxxxr000\n",
      "00xr000000000\n"
     ]
    }
   ],
   "source": [
    "# your company wants to dominate self-driving market\n",
    "# write code to drive your autonomous test car sefely\n",
    "# through city. Stay on righ side of the road. Start\n",
    "# at top(s) and drive to (f). Don't hot 0's or left side.\n",
    "# Print out the path (x) as you go along as in output example.\n",
    "\n",
    "city = [\"0000sr0000000\",\n",
    "        \"0000rr0000000\",\n",
    "        \"0000rr0000000\",\n",
    "        \"0000rrrrrr000\",\n",
    "        \"0000rrrrrr000\",\n",
    "        \"00000000rr000\",\n",
    "        \"00rrrrrrrr000\",\n",
    "        \"00fr000000000\"]\n",
    "\n",
    "# Create Indexlist\n",
    "\n",
    "co = -1\n",
    "line = []\n",
    "for i in city:\n",
    "    for a in i:\n",
    "        co += 1\n",
    "        if a != '0':\n",
    "            line.append(co)\n",
    "            co = -1\n",
    "            break\n",
    "line.append(0)\n",
    "\n",
    "# Start to drive\n",
    "\n",
    "x = 0\n",
    "street = \"\"\n",
    "way = []\n",
    "way2 = []\n",
    "\n",
    "for i in range(len(city)):\n",
    "    for a in range(len(city[i])):\n",
    "        way.append(city[i][a])\n",
    "    if x == 1:\n",
    "        for o in range(line[i], line[i-1]+1):\n",
    "            way[o] = \"x\"\n",
    "            x = 0\n",
    "    if line[i] > line[i+1]:\n",
    "            way[line[i]] = \"x\"\n",
    "            x = 1\n",
    "    else:\n",
    "        for o in range(line[i], line[i+1]+1):\n",
    "            way[o] = \"x\"\n",
    "    for l in way:\n",
    "        street += l\n",
    "    way2.append(street)\n",
    "    street = \"\"\n",
    "    way = []\n",
    "\n",
    "# Print the Path\n",
    "\n",
    "for row in way2:\n",
    "    print(row)"
   ]
  },
  {
   "cell_type": "markdown",
   "metadata": {},
   "source": [
    "# 2022/6/1 Code Challenge"
   ]
  },
  {
   "cell_type": "code",
   "execution_count": 7,
   "metadata": {},
   "outputs": [
    {
     "name": "stdout",
     "output_type": "stream",
     "text": [
      "a is surrounded by into and newt.\n",
      "a is surrounded by to and nert?\n",
      "the is surrounded by - and witch\n",
      "to is surrounded by newt. and a\n"
     ]
    }
   ],
   "source": [
    "# Find the words surrounding the key-words and print them out,\n",
    "# only find stand-alone words, not keywords as part of another\n",
    "\n",
    "key_words = ['a', 'the', 'to']\n",
    "mess = 'holy grail - the witch scence: she turned me into a newt. to a nert? it got better.'\n",
    "\n",
    "list1 = [data for data in mess.split(' ')]\n",
    "for x in key_words:\n",
    "    for i in range(len(list1)-1):\n",
    "        if x == list1[i]:\n",
    "            print(f'{x} is surrounded by {list1[i-1]} and {list1[i+1]}')"
   ]
  },
  {
   "cell_type": "markdown",
   "metadata": {},
   "source": [
    "# 2022/7/4 Code Challenge"
   ]
  },
  {
   "cell_type": "code",
   "execution_count": 10,
   "metadata": {},
   "outputs": [
    {
     "name": "stdout",
     "output_type": "stream",
     "text": [
      "[3, 4, 6, 7, 10, 11, 'john']\n"
     ]
    }
   ],
   "source": [
    "# Remove list duplicates\n",
    "raw = [10, 3, 4, 6, 3, 7, 'john', 4, 10, 'john', 6, 11, 3]\n",
    "print([x for x in set(raw)])"
   ]
  },
  {
   "cell_type": "markdown",
   "metadata": {},
   "source": [
    "# 2022/7/6 Code Challenge"
   ]
  },
  {
   "cell_type": "code",
   "execution_count": 11,
   "metadata": {},
   "outputs": [
    {
     "name": "stdout",
     "output_type": "stream",
     "text": [
      "[3, 56, 7, 8, 16, 17, 22, 23, 24, 6, 72]\n"
     ]
    }
   ],
   "source": [
    "# Sort list and swap 2nd largest / smallest numbers\n",
    "raw = [8, 7, 22, 16, 3, 24, 56, 17, 23, 6, 72]\n",
    "raw = sorted(raw)\n",
    "raw[1], raw[-2] = raw[-2], raw[1]\n",
    "print(raw)"
   ]
  },
  {
   "cell_type": "markdown",
   "metadata": {},
   "source": [
    "# 2022/7/8 Code Challenge"
   ]
  },
  {
   "cell_type": "code",
   "execution_count": 12,
   "metadata": {},
   "outputs": [
    {
     "name": "stdout",
     "output_type": "stream",
     "text": [
      "7 letters in string: haaparr"
     ]
    }
   ],
   "source": [
    "# Find number of characters (letters) in string\n",
    "\n",
    "raw = '7h15.15,a.1)a73,$parr07'\n",
    "lst = [ch for ch in raw if ch.isalpha()]\n",
    "\n",
    "print(f'{len(lst)} letters in string: ', end='')\n",
    "\n",
    "for i in range(len(lst)):\n",
    "    print(lst[i], end='')"
   ]
  },
  {
   "cell_type": "markdown",
   "metadata": {},
   "source": [
    "# 2022/7/9 Code Challenge"
   ]
  },
  {
   "cell_type": "code",
   "execution_count": 13,
   "metadata": {},
   "outputs": [
    {
     "name": "stdout",
     "output_type": "stream",
     "text": [
      "2 or more of: 928, 996, 911, "
     ]
    }
   ],
   "source": [
    "# List all duplicates in list at your car dealership\n",
    "\n",
    "list1 = [911, 996, 928, 944, 911, 996, 928, 356, 924]\n",
    "\n",
    "list2 = set([data for data in list1 if list1.count(data) >= 2])\n",
    "\n",
    "print('2 or more of: ', end = '')\n",
    "\n",
    "for num in list2:\n",
    "    print(num, end = ', ')"
   ]
  },
  {
   "cell_type": "markdown",
   "metadata": {},
   "source": [
    "# 2022/7/11 Code Challenge"
   ]
  },
  {
   "cell_type": "code",
   "execution_count": 15,
   "metadata": {},
   "outputs": [
    {
     "name": "stdout",
     "output_type": "stream",
     "text": [
      "{'may': 167, 'jun': 216, 'jul': 286, 'aug': 498}\n",
      "The Average = 291.75\n"
     ]
    }
   ],
   "source": [
    "# Create fictionary from two lists\n",
    "\n",
    "from numpy import average\n",
    "\n",
    "\n",
    "raw1 = ['may', 'jun', 'jul', 'aug']\n",
    "raw2 = [167, 216, 286, 498]\n",
    "\n",
    "print(dict(zip(raw1, raw2)))\n",
    "\n",
    "print('The Average =', round(average(raw2), 2))"
   ]
  },
  {
   "cell_type": "markdown",
   "metadata": {},
   "source": [
    "# 2022/7/12 Code Challenge"
   ]
  },
  {
   "cell_type": "code",
   "execution_count": 23,
   "metadata": {},
   "outputs": [
    {
     "name": "stdout",
     "output_type": "stream",
     "text": [
      "secret, 3942\\nreally secret, 4376\\ntop secret, 4963\\n\n",
      "\n",
      "[['secret', 3942], ['really secret', 4376], ['top secret', 4963]]\n"
     ]
    }
   ],
   "source": [
    "# You are a spy and need to dump some secret data into a text file.\n",
    "# Write code to dump the file into nothing_to_see_here.txt\n",
    "# one row per dataset, print the output\n",
    "\n",
    "raw = [['secret, 3942'], ['really secret, 4376'], ['top secret, 4963']]\n",
    "\n",
    "for data in raw:\n",
    "    print(*data, end='\\\\n')\n",
    "\n",
    "print('\\n')\n",
    "\n",
    "input2 = []\n",
    "\n",
    "for data in raw:\n",
    "    x, y = data[0].split(', ')\n",
    "    input2.append([x, int(y)])\n",
    "\n",
    "print(input2)"
   ]
  },
  {
   "cell_type": "markdown",
   "metadata": {},
   "source": [
    "# 2022/7/13 Code Challenge"
   ]
  },
  {
   "cell_type": "code",
   "execution_count": 31,
   "metadata": {},
   "outputs": [
    {
     "name": "stdout",
     "output_type": "stream",
     "text": [
      "Number occurring most often is: 4. The number of occurrences is: 5.\n"
     ]
    }
   ],
   "source": [
    "# Find the most frequenctly appearing element\n",
    "\n",
    "input1 = [2, 4, 4, 3, 3, 4, 'jb', 4, 2, 'jb', 6, 4, 3]\n",
    "\n",
    "sets = set(input1)\n",
    "\n",
    "max_frq = 0\n",
    "max_num = 0\n",
    "\n",
    "for element in sets:\n",
    "    if input1.count(element) > max_frq:\n",
    "        max_frq = input1.count(element)\n",
    "        max_num = element\n",
    "        \n",
    "print(f'Number occurring most often is: {max_num}. The number of occurrences is: {max_frq}.')"
   ]
  },
  {
   "cell_type": "markdown",
   "metadata": {},
   "source": [
    "# 2022/7/16 Code Challenge"
   ]
  },
  {
   "cell_type": "code",
   "execution_count": 4,
   "metadata": {},
   "outputs": [
    {
     "name": "stdout",
     "output_type": "stream",
     "text": [
      "EID42, JCL76, GCH9, "
     ]
    }
   ],
   "source": [
    "# Create new list or Dict from 2 lists with initials\n",
    "\n",
    "input1 = ['Eric Idle', 'John Cleese', 'Graham Chapman']\n",
    "input2 = [42, 76, 9]\n",
    "\n",
    "first_names = [name.strip().split(' ')[0].upper() for name in input1]\n",
    "last_names = [name.strip().split(' ')[1].upper() for name in input1]\n",
    "\n",
    "for i in range(len(input2)):\n",
    "    print(first_names[i][:1:]+last_names[i][:2:]+str(input2[i]), end=', ')"
   ]
  },
  {
   "cell_type": "markdown",
   "metadata": {},
   "source": [
    "# 2022/7/17 Code Challenge"
   ]
  },
  {
   "cell_type": "code",
   "execution_count": 7,
   "metadata": {},
   "outputs": [
    {
     "name": "stdout",
     "output_type": "stream",
     "text": [
      "Factors are: 15(1, 3, 5, 15), 21(1, 3, 7, 21), 42(1, 2, 3, 6, 7, 14, 21, 42), "
     ]
    }
   ],
   "source": [
    "# Print the factors of number\n",
    "\n",
    "input1 = [15, 21, 42]\n",
    "\n",
    "print('Factors are: ', end = '')\n",
    "\n",
    "for i in range(0, len(input1)):\n",
    "    print(f'{input1[i]}{tuple([f for f in range(1, input1[i]+1) if input1[i] % f == 0])}', end = ', ')"
   ]
  },
  {
   "cell_type": "markdown",
   "metadata": {},
   "source": [
    "# 2022/7/19 Code Challenge"
   ]
  },
  {
   "cell_type": "code",
   "execution_count": 11,
   "metadata": {},
   "outputs": [
    {
     "name": "stdout",
     "output_type": "stream",
     "text": [
      "[2, 4, 9] [3, 4, 8] [3, 6, 6] [3, 5, 7] [4, 2, 9] [4, 5, 6] [4, 9, 2] [4, 7, 4] [4, 6, 5] [5, 2, 8] [5, 8, 2] [5, 6, 4] [6, 7, 2] [6, 5, 4] [7, 6, 2]\n"
     ]
    }
   ],
   "source": [
    "# Each number in list is a group of that many friends\n",
    "# Print all combinations of 3 groups that will fill 15 seat bus.\n",
    "# No duplicaton of combinations\n",
    "\n",
    "from itertools import combinations\n",
    "\n",
    "input1 = [3, 4, 6, 5, 7, 6, 2, 4, 9, 8, 2]\n",
    "seq = set(list(combinations(input1, 3)))\n",
    "eq = (lambda x: x[0] + x[1] + x[2] == 15)\n",
    "results = list(filter(eq, seq))\n",
    "output1 = [list(result) for result in results]\n",
    "output1 = sorted(output1, key=lambda e: e[0])\n",
    "\n",
    "print(*output1)"
   ]
  },
  {
   "cell_type": "markdown",
   "metadata": {},
   "source": [
    "# 2022/7/21 Code Challenge"
   ]
  },
  {
   "cell_type": "code",
   "execution_count": 13,
   "metadata": {},
   "outputs": [
    {
     "name": "stdout",
     "output_type": "stream",
     "text": [
      "('i', 5) ('n', 4) ('s', 4) ('o', 3) ('e', 3) ('t', 3) ('p', 2) ('h', 2) ('b', 1) ('d', 1) ('y', 1) ('x', 1) ('c', 1) ('a', 1) ('q', 1) ('u', 1)\n"
     ]
    }
   ],
   "source": [
    "# Print the letter frequency of the string. Spaces don't count\n",
    "# upper/lower-case are same M==m\n",
    "\n",
    "input1 = 'Nobody expects the spanish inquisition'\n",
    "input1 = input1.lower()\n",
    "\n",
    "stat = {}\n",
    "\n",
    "for i in range(0, len(input1)):\n",
    "    if input1[i] not in stat:\n",
    "        stat[input1[i]] = 0\n",
    "    stat[input1[i]] += 1\n",
    "stat.pop(' ')\n",
    "stat = sorted(stat.items(), key = lambda e:e[1], reverse=True)        # Sort by number of occurrences, in reverse order\n",
    "print(*stat)"
   ]
  },
  {
   "cell_type": "markdown",
   "metadata": {},
   "source": [
    "# 2022/7/24 Code Challenge"
   ]
  },
  {
   "cell_type": "code",
   "execution_count": 1,
   "metadata": {},
   "outputs": [
    {
     "name": "stdout",
     "output_type": "stream",
     "text": [
      "The killer is John. And the next victim is Jen\n"
     ]
    }
   ],
   "source": [
    "input1 = {'Eric': ['Jane','John','Mike','Leigh','Todd','Lee','Judy'], \n",
    "         'Jen': ['Mark','Mike','Leigh','Jim','Lara','John','Bill'], \n",
    "         'Terry': ['Joe','Sara','Reg','Jill','John','Greg','Bryan'], \n",
    "         'Lara': ['Pete','Li','Todd','Reg','Jane','Mike','Jen','Ang'], }\n",
    "\n",
    "killed = ['Eric', 'Terry']\n",
    "victims = []\n",
    "\n",
    "killer = (set(input1[killed[0]]) & set(input1[killed[1]]))\n",
    "\n",
    "for victim in input1.keys():\n",
    "    if killer.issubset(set(input1[victim])):\n",
    "        victims.append(victim)\n",
    "\n",
    "for victim in killed:\n",
    "    victims.remove(victim)\n",
    "\n",
    "print('The killer is ', end='')\n",
    "print(*killer, end = '')\n",
    "print('. And the next victim is ', end='')\n",
    "print(*victims)"
   ]
  },
  {
   "cell_type": "markdown",
   "metadata": {},
   "source": [
    "# 2022/7/26 Code Challenge"
   ]
  },
  {
   "cell_type": "code",
   "execution_count": 3,
   "metadata": {},
   "outputs": [
    {
     "name": "stdout",
     "output_type": "stream",
     "text": [
      "This password fInQpiGm has been compromised, Try again: \n"
     ]
    }
   ],
   "source": [
    "# Ultra-secure password generator MkIII\n",
    "\n",
    "import random, string\n",
    "chars = string.ascii_letters + '0123456789-?&!$+*_'\n",
    "pass_length = int(input('Enter Password Length:  '))\n",
    "security_mode = input('Enter 1 for \"Super-secure\", or 0 for not secure password: ')\n",
    "\n",
    "if security_mode == '0':\n",
    "    password = ''.join(random.sample(chars, pass_length))\n",
    "    print(f'This password {password} has been compromised, Try again: ')\n",
    "else:\n",
    "    password = 'password'\n",
    "    print('Your suggested very secure password is:', password)"
   ]
  }
 ],
 "metadata": {
  "kernelspec": {
   "display_name": "Python 3.10.5 64-bit",
   "language": "python",
   "name": "python3"
  },
  "language_info": {
   "codemirror_mode": {
    "name": "ipython",
    "version": 3
   },
   "file_extension": ".py",
   "mimetype": "text/x-python",
   "name": "python",
   "nbconvert_exporter": "python",
   "pygments_lexer": "ipython3",
   "version": "3.10.5"
  },
  "orig_nbformat": 4,
  "vscode": {
   "interpreter": {
    "hash": "a42ccb73e7d9bfdf27e036f1d2b8b681e55fc0743cc5586bc2474d4a60f4b886"
   }
  }
 },
 "nbformat": 4,
 "nbformat_minor": 2
}
