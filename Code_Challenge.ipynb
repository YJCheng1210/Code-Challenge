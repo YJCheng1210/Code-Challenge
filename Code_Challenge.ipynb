{
 "cells": [
  {
   "cell_type": "markdown",
   "metadata": {},
   "source": [
    "20211116 Code-Challenge"
   ]
  },
  {
   "cell_type": "code",
   "execution_count": 1,
   "metadata": {},
   "outputs": [
    {
     "name": "stdout",
     "output_type": "stream",
     "text": [
      "Found:  ['holy', 'grail', 'life', 'of', 'brian', 'fool']\n",
      "Not Found:  ['monty', 'python', 'rain']\n",
      "Found:  ['liar', 'lots', 'near', 'rail', 'lend', 'liar', 'nine', 'rod', 'risk']\n",
      "Not Found:  ['nine', 'nary', 'rod', 'lyeonly', 'hope', 'car', 'so', 'risk', 'lots', 'nary', 'near', 'lyeonly', 'rail', 'hope', 'car', 'so', 'lend']\n"
     ]
    }
   ],
   "source": [
    "# Print the words you can find in the 10X5 word matrix.\n",
    "# Reading forwards or backwards.\n",
    "\n",
    "words1 = ['holy', 'grail', 'monty', 'python',\n",
    "        'life', 'of', 'brian', 'fool', 'rain']\n",
    "\n",
    "words2 = ['liar', 'nine', 'lots', 'nary', 'near', 'rod', 'lye'\n",
    "          'only', 'rail', 'hope', 'car', 'so', 'risk', 'lend']\n",
    "\n",
    "matrix = ['nlifeloofw',\n",
    "          'liargoyloh',\n",
    "          'oanairbens',\n",
    "          'troeasonst',\n",
    "          'swgndmkdhr']\n",
    "\n",
    "forwards = matrix.copy()\n",
    "backwards = []\n",
    "vertical1 = []\n",
    "vertical2 = []\n",
    "diagonal1 = []\n",
    "diagonal2 = []\n",
    "\n",
    "for row in matrix:\n",
    "    backwards.append(row[::-1])\n",
    "\n",
    "output1 = []\n",
    "not_found1 = []\n",
    "output2 = []\n",
    "not_found2 = []\n",
    "\n",
    "for w in words1:\n",
    "    not_found = True\n",
    "    for f in forwards:\n",
    "        if w in f:\n",
    "            output1.append(w)\n",
    "            not_found = False\n",
    "    for b in backwards:\n",
    "        if w in b:\n",
    "            if w not in output1:\n",
    "                output1.append(w)\n",
    "                not_found = False\n",
    "    if not_found:\n",
    "        not_found1.append(w)\n",
    "\n",
    "print('Found: ', output1)\n",
    "print('Not Found: ', not_found1)\n",
    "\n",
    "for j in range(len(matrix[0])):\n",
    "    str = ''\n",
    "    for i in range(len(matrix)):\n",
    "        str = str + matrix[i][j]\n",
    "    vertical1.append(str)\n",
    "    vertical2.append(str[::-1])\n",
    "\n",
    "for w in words2:\n",
    "    not_found = True\n",
    "    for v in vertical1:\n",
    "        if w in v:\n",
    "            output2.append(w)\n",
    "            not_found = False\n",
    "    for v in vertical2:\n",
    "        if w in v:\n",
    "            if w not in output2:\n",
    "                output2.append(w)\n",
    "                not_found = False\n",
    "    if not_found:\n",
    "        not_found2.append(w)\n",
    "\n",
    "for j in  range(0, 10):\n",
    "    str = ''\n",
    "    for i in range(0, 5):\n",
    "        if (i + j < 10):\n",
    "            str = str + matrix[i][i+j] \n",
    "    diagonal1.append(str)\n",
    "\n",
    "for i in range(1, 5):\n",
    "    str = ''\n",
    "    for j in range(0, 4):\n",
    "        str = str + matrix[i][j]\n",
    "    diagonal1.append(str)\n",
    "\n",
    "for w in words2:\n",
    "    not_found = True\n",
    "    for v in diagonal1:\n",
    "        if w in v:\n",
    "            output2.append(w)\n",
    "            not_found = False\n",
    "    if not_found:\n",
    "        not_found2.append(w)\n",
    "\n",
    "print('Found: ', output2)\n",
    "print('Not Found: ', not_found2)"
   ]
  }
 ],
 "metadata": {
  "kernelspec": {
   "display_name": "Python 3.10.5 64-bit",
   "language": "python",
   "name": "python3"
  },
  "language_info": {
   "codemirror_mode": {
    "name": "ipython",
    "version": 3
   },
   "file_extension": ".py",
   "mimetype": "text/x-python",
   "name": "python",
   "nbconvert_exporter": "python",
   "pygments_lexer": "ipython3",
   "version": "3.10.5"
  },
  "orig_nbformat": 4,
  "vscode": {
   "interpreter": {
    "hash": "3e6eaf00392b0cb8b5a646d3515e821c15d6342d64f11192f7e7dc8c1b273a06"
   }
  }
 },
 "nbformat": 4,
 "nbformat_minor": 2
}
