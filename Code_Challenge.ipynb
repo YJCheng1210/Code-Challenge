{
 "cells": [
  {
   "cell_type": "markdown",
   "metadata": {},
   "source": [
    "2021/11/16 Code Challenge"
   ]
  },
  {
   "cell_type": "code",
   "execution_count": 101,
   "metadata": {},
   "outputs": [
    {
     "name": "stdout",
     "output_type": "stream",
     "text": [
      "Found:  ['holy', 'grail', 'life', 'of', 'brian', 'fool']\n",
      "Not Found:  ['monty', 'python', 'rain']\n",
      "Found:  ['liar', 'lots', 'near', 'rail', 'lend', 'liar', 'nine', 'rod', 'risk']\n",
      "Not Found:  ['nine', 'nary', 'rod', 'lyeonly', 'hope', 'car', 'so', 'risk', 'lots', 'nary', 'near', 'lyeonly', 'rail', 'hope', 'car', 'so', 'lend']\n"
     ]
    }
   ],
   "source": [
    "# Print the words you can find in the 10X5 word matrix.\n",
    "# Reading forwards or backwards.\n",
    "\n",
    "words1 = ['holy', 'grail', 'monty', 'python',\n",
    "        'life', 'of', 'brian', 'fool', 'rain']\n",
    "\n",
    "words2 = ['liar', 'nine', 'lots', 'nary', 'near', 'rod', 'lye'\n",
    "          'only', 'rail', 'hope', 'car', 'so', 'risk', 'lend']\n",
    "\n",
    "matrix = ['nlifeloofw',\n",
    "          'liargoyloh',\n",
    "          'oanairbens',\n",
    "          'troeasonst',\n",
    "          'swgndmkdhr']\n",
    "\n",
    "forwards = matrix.copy()\n",
    "backwards = []\n",
    "vertical1 = []\n",
    "vertical2 = []\n",
    "diagonal1 = []\n",
    "diagonal2 = []\n",
    "\n",
    "for row in matrix:\n",
    "    backwards.append(row[::-1])\n",
    "\n",
    "output1 = []\n",
    "not_found1 = []\n",
    "output2 = []\n",
    "not_found2 = []\n",
    "\n",
    "for w in words1:\n",
    "    not_found = True\n",
    "    for f in forwards:\n",
    "        if w in f:\n",
    "            output1.append(w)\n",
    "            not_found = False\n",
    "    for b in backwards:\n",
    "        if w in b:\n",
    "            if w not in output1:\n",
    "                output1.append(w)\n",
    "                not_found = False\n",
    "    if not_found:\n",
    "        not_found1.append(w)\n",
    "\n",
    "print('Found: ', output1)\n",
    "print('Not Found: ', not_found1)\n",
    "\n",
    "for j in range(len(matrix[0])):\n",
    "    sstr = ''\n",
    "    for i in range(len(matrix)):\n",
    "        sstr = sstr + matrix[i][j]\n",
    "    vertical1.append(sstr)\n",
    "    vertical2.append(sstr[::-1])\n",
    "\n",
    "for w in words2:\n",
    "    not_found = True\n",
    "    for v in vertical1:\n",
    "        if w in v:\n",
    "            output2.append(w)\n",
    "            not_found = False\n",
    "    for v in vertical2:\n",
    "        if w in v:\n",
    "            if w not in output2:\n",
    "                output2.append(w)\n",
    "                not_found = False\n",
    "    if not_found:\n",
    "        not_found2.append(w)\n",
    "\n",
    "for j in  range(0, 10):\n",
    "    sstr = ''\n",
    "    for i in range(0, 5):\n",
    "        if (i + j < 10):\n",
    "            sstr = sstr + matrix[i][i+j] \n",
    "    diagonal1.append(sstr)\n",
    "\n",
    "for i in range(1, 5):\n",
    "    sstr = ''\n",
    "    for j in range(0, 4):\n",
    "        sstr = sstr + matrix[i][j]\n",
    "    diagonal1.append(sstr)\n",
    "\n",
    "for w in words2:\n",
    "    not_found = True\n",
    "    for v in diagonal1:\n",
    "        if w in v:\n",
    "            output2.append(w)\n",
    "            not_found = False\n",
    "    if not_found:\n",
    "        not_found2.append(w)\n",
    "\n",
    "print('Found: ', output2)\n",
    "print('Not Found: ', not_found2)"
   ]
  },
  {
   "cell_type": "markdown",
   "metadata": {},
   "source": [
    "2021/11/17 Code Challenge"
   ]
  },
  {
   "cell_type": "code",
   "execution_count": 102,
   "metadata": {},
   "outputs": [
    {
     "name": "stdout",
     "output_type": "stream",
     "text": [
      "{'Oddjob': ['007', 'Goldfinger', 'Felix'], 'Zorin': ['Mayday'], 'Jaws': ['Drax', 'Drax', '007'], 'Felix': ['007', 'Vesper', 'Oddjob'], '007': ['Felix', 'Vesper', 'Scaramanga', 'Mayday', 'Oddjob', 'Drax', 'Scaramanga', 'Blofeld', 'Goldfinger', 'Vesper', 'Jaws'], 'Drax': ['007', 'Jaws', 'Blofeld', 'Jaws'], 'Blofeld': ['Vesper', 'Chiffre', '007', 'Drax'], 'Chiffre': ['Blofeld', 'Vesper'], 'Mayday': ['007', 'Zorin'], 'Scaramanga': ['007', 'No', '007'], 'No': ['Scaramanga'], 'Vesper': ['007', 'Blofeld', 'Felix', 'Chiffre', '007'], 'Goldfinger': ['Oddjob', '007']}\n"
     ]
    }
   ],
   "source": [
    "# You observe a Spectre party and log who interacts with (and knows) who\n",
    "# based on data you superiors want a compiled report of who knows who.\n",
    "# output format dictionary with {person:[friends],...}\n",
    "\n",
    "interactions = [['007','Felix'],['007','Vesper'],['Vesper','Blofeld'],['Felix','Vesper'],['007','Scaramanga'],\n",
    "                ['Blofeld','Chiffre'],['Mayday','007'],['Oddjob','007'],['007','Drax'],['No','Scaramanga'],\n",
    "                ['Drax','Jaws'],['007','Scaramanga'],['Goldfinger','Oddjob'],['Vesper','Chiffre'],['Zorin','Mayday'],\n",
    "                ['Blofeld','007'],['007','Goldfinger'],['Blofeld','Drax'],['Jaws','Drax'],['Felix','Oddjob'],\n",
    "                ['Vesper','007'],['Jaws','007']]\n",
    "\n",
    "people = []\n",
    "\n",
    "for pair in interactions:\n",
    "    people.append(pair[0])\n",
    "    people.append(pair[1])\n",
    "\n",
    "people = set(people)\n",
    "\n",
    "friend_dict= {}\n",
    "\n",
    "for p in people:\n",
    "    friends = []\n",
    "    for pair in interactions:\n",
    "        if p in pair:\n",
    "            for f in pair:\n",
    "                if f != p:\n",
    "                    friends.append(f)\n",
    "    friend_dict[p] = friends\n",
    "\n",
    "print(friend_dict)"
   ]
  },
  {
   "cell_type": "markdown",
   "metadata": {},
   "source": [
    "2021/11/23 Code Challenge"
   ]
  },
  {
   "cell_type": "code",
   "execution_count": 103,
   "metadata": {},
   "outputs": [
    {
     "name": "stdout",
     "output_type": "stream",
     "text": [
      "['eat', 'play', 'jump']\n",
      "{'eat': ['er', 'ing', 's'], 'play': ['s', 'ing', 'er'], 'jump': ['s', 'er', 'ing']}\n",
      "eater\n",
      "jumping\n"
     ]
    }
   ],
   "source": [
    "# Find the word root of the words presented\n",
    "\n",
    "import snowballstemmer \n",
    "stemmer = snowballstemmer.stemmer(\"english\")\n",
    "\n",
    "words = ['plays', 'eater', 'jumps', 'jumper', 'eating', 'jumping', 'eats', 'playing', 'player']\n",
    "\n",
    "roots = []\n",
    "for w in words:\n",
    "    roots.append(stemmer.stemWord(w))\n",
    "\n",
    "root = []\n",
    "\n",
    "for i in range(0, len(roots)):\n",
    "    for j in range(i+1, len(roots)):\n",
    "        if roots[i] in roots[j]:\n",
    "            root.append(roots[i])\n",
    "\n",
    "roots = [w for w in set(root)]\n",
    "\n",
    "print(roots)\n",
    "\n",
    "# Advanced: add the endings in a dictionary\n",
    "\n",
    "word_dict = {}\n",
    "\n",
    "for x in roots:\n",
    "    suffix = []\n",
    "    for y in words:\n",
    "        if x in y:\n",
    "            w1, w2 = y.split(x)\n",
    "            suffix.append(w2)\n",
    "    word_dict[x] = suffix\n",
    "\n",
    "print(word_dict)\n",
    "\n",
    "# 2 Write a function that outputs + correct ending\n",
    "\n",
    "def word_creator(w, l):\n",
    "    for s in word_dict.get(w):\n",
    "        if len(s) == l:\n",
    "            return w+s\n",
    "\n",
    "print(word_creator('eat', 2))\n",
    "print(word_creator('jump', 3))"
   ]
  },
  {
   "cell_type": "markdown",
   "metadata": {},
   "source": [
    "2021/11/29 Code Challenge"
   ]
  },
  {
   "cell_type": "code",
   "execution_count": 104,
   "metadata": {},
   "outputs": [
    {
     "name": "stdout",
     "output_type": "stream",
     "text": [
      "safe: ['Eric', 'John', 'Rick', 'Michael', 'Terry']\n",
      "bumped: ['Tosh', 'Ed', 'Candy']\n"
     ]
    }
   ],
   "source": [
    "# You monitor airline passengers and have received a 'No Fly' list from authorities.\n",
    "# Remember all passengers on no_fly from passenger list to creat safe list.append\n",
    "\n",
    "passengers = ['Eric', 'Tosh', 'John', 'Ed', 'Rick', 'Michael', 'Candy', 'Terry']\n",
    "\n",
    "no_fly = ['Johnny', 'Tosh', 'Rick', 'Ed', 'Candy', 'Roger', 'Deb', 'Tim']\n",
    "\n",
    "safe = passengers.copy()\n",
    "bumped = []\n",
    "\n",
    "for p in safe:\n",
    "    if p in no_fly:\n",
    "        bumped.append(p)\n",
    "        safe.remove(p)\n",
    "\n",
    "print('safe:', safe)\n",
    "print('bumped:', bumped)"
   ]
  },
  {
   "cell_type": "markdown",
   "metadata": {},
   "source": [
    "2021/12/02 Code Challenge"
   ]
  },
  {
   "cell_type": "code",
   "execution_count": 105,
   "metadata": {},
   "outputs": [
    {
     "name": "stdout",
     "output_type": "stream",
     "text": [
      "Bread: 1x20, 1x2, \n",
      "\n",
      "Pizza: 1x20, 1x10, 1x5, 1x2, 1x1, \n",
      "\n",
      "Hamburger: 1x50, 1x10, 1x0.5, \n",
      "\n"
     ]
    }
   ],
   "source": [
    "# Write code to give correct change when someone pays for item\n",
    "# in your store. Give back as few pieces of change as possible\n",
    "# purchase(format): ['item', prices, payment_received]\n",
    "\n",
    "purchases = [['Bread', 28, 50], ['Pizza', 62, 100], ['Hamburger', 39.5, 100]]\n",
    "\n",
    "available_moneys = [100, 50, 20, 10, 5 ,2, 1, 0.5]\n",
    "list1 = []\n",
    "\n",
    "for purchase in purchases:\n",
    "    item = purchase[0]\n",
    "    change = purchase[2] - purchase[1]\n",
    "    payments = []\n",
    "    while change != 0:\n",
    "        for i in range(len(available_moneys)):\n",
    "            if change // available_moneys[i] >= 1:\n",
    "                payments.append([int(change // available_moneys[i]), available_moneys[i]])\n",
    "                change = change % available_moneys[i]\n",
    "\n",
    "    list1.append([purchase[0], *payments])\n",
    "\n",
    "for lst in list1:\n",
    "    print(lst[0], end =': ')\n",
    "    for i in range(1, len(lst)):\n",
    "        print(f'{lst[i][0]}x{lst[i][1]}', end=', ')\n",
    "    print('\\n')"
   ]
  },
  {
   "cell_type": "markdown",
   "metadata": {},
   "source": [
    "2021/12/16 Code Challenge"
   ]
  },
  {
   "cell_type": "code",
   "execution_count": 106,
   "metadata": {},
   "outputs": [
    {
     "name": "stdout",
     "output_type": "stream",
     "text": [
      "Stock portfolio value (2020) : 34898 USD\n",
      "FB 15 4365 USD\n",
      "GOOG 5 10265 USD\n",
      "TSLA 9 5958 USD\n",
      "AAPL 45 5490 USD\n",
      "NFLX 12 6420 USD\n",
      "BTC 0.1 2400 USD\n",
      "\n",
      "Stock portfolio value (2021) : 48830 USD, return(2021): 13932 USD\n",
      "FB 15 5100 USD, retrun = 735 USD\n",
      "GOOG 5 14825 USD, retrun = 4560 USD\n",
      "TSLA 9 8865 USD, retrun = 2907 USD\n",
      "AAPL 45 8100 USD, retrun = 2610 USD\n",
      "NFLX 12 7140 USD, retrun = 720 USD\n",
      "BTC 0.1 4800 USD, retrun = 2400 USD\n"
     ]
    }
   ],
   "source": [
    "# Write code to calculate value of stocks / crypto and pordolio by combining\n",
    "# data from two sources. Market contains 2020 price of stocks \n",
    "\n",
    "market = {'TSLA': 662, 'GOOG': 2053, 'AAPL': 122, 'FB': 291, 'NFLX': 535, 'BTC': 24000}\n",
    "\n",
    "positions = {'FB': 15, 'GOOG': 5, 'TSLA': 9, 'AAPL': 45, 'NFLX': 12, 'BTC': 0.1}\n",
    "\n",
    "amount = 0\n",
    "\n",
    "str0 = ''\n",
    "\n",
    "for k, v in positions.items():\n",
    "    str0 = str0 + f'\\n{k} {v} {int(market.get(k)*v)} USD'\n",
    "    amount = amount + int(market.get(k) * v)\n",
    "str0 = f'Stock portfolio value (2020) : {amount} USD' + str0\n",
    "\n",
    "print(str0)\n",
    "\n",
    "market_2021 = {'TSLA': 985, 'GOOG': 2965, 'AAPL': 180, 'FB': 340, 'NFLX': 595, 'BTC': 48000}\n",
    "\n",
    "amount1 = 0\n",
    "amount2 = 0\n",
    "str1 = ''\n",
    "\n",
    "for k, v in positions.items():\n",
    "    x = int(market_2021.get(k)*v)\n",
    "    y = int(market.get(k)*v)\n",
    "    str1 = str1 + f'\\n{k} {v} {x} USD'\n",
    "    str1 = str1 + f', retrun = {x-y} USD'\n",
    "    amount1 = amount1 + x\n",
    "    amount2 = amount2 + x - y\n",
    "str1 = f'\\nStock portfolio value (2021) : {amount1} USD, return(2021): {amount2} USD' + str1\n",
    "print(str1)"
   ]
  },
  {
   "cell_type": "markdown",
   "metadata": {},
   "source": [
    "2021/12/21 Code Challenge"
   ]
  },
  {
   "cell_type": "code",
   "execution_count": 107,
   "metadata": {},
   "outputs": [
    {
     "name": "stdout",
     "output_type": "stream",
     "text": [
      "Your card:  **** **** **** 5555\n",
      "Your card:  *1** **** *11* 5555\n"
     ]
    }
   ],
   "source": [
    "input = '4154455441155555'\n",
    "\n",
    "input = [s for s in input]\n",
    "\n",
    "digits = [input[i:i+4] for i in range(0, len(input), 4)]\n",
    "\n",
    "encrypt = ''\n",
    "\n",
    "for digit in digits[:-1]:\n",
    "    for element in digit:\n",
    "        encrypt += '*'\n",
    "    encrypt += ' '\n",
    "\n",
    "encrypt += ''.join(digits[-1])\n",
    "\n",
    "print('Your card: ', encrypt)\n",
    "\n",
    "\n",
    "encrypt = ''\n",
    "\n",
    "for digit in digits[:-1]:\n",
    "    for element in digit:\n",
    "        if int(element) != 1:\n",
    "            encrypt += '*'\n",
    "        else:\n",
    "            encrypt += element\n",
    "    encrypt += ' '\n",
    "\n",
    "encrypt += ''.join(digits[-1])\n",
    "\n",
    "print('Your card: ', encrypt)"
   ]
  },
  {
   "cell_type": "markdown",
   "metadata": {},
   "source": [
    "2022/01/13 Code Challenge"
   ]
  },
  {
   "cell_type": "code",
   "execution_count": 108,
   "metadata": {},
   "outputs": [
    {
     "name": "stdout",
     "output_type": "stream",
     "text": [
      "[2, 3, 4, 5]\n",
      "[1, 2, 3, 4, 5, 6]\n"
     ]
    }
   ],
   "source": [
    "# Write code to filter & sort non-strings to new list\n",
    "\n",
    "input = [5, 'ac', 3, 'ab', '1', 2, 'ad', '6', 4, 'aa']\n",
    "\n",
    "new_list = [x for x in input if isinstance(x, int)]\n",
    "\n",
    "print(sorted(new_list))\n",
    "\n",
    "for x in input:\n",
    "    if isinstance(x, type(str)) and x.isalpha():\n",
    "        input.remove(x)\n",
    "new_list = [eval(x) if isinstance(x, type(str)) else x for x in input]\n",
    "\n",
    "print(sorted(new_list))"
   ]
  },
  {
   "cell_type": "markdown",
   "metadata": {},
   "source": [
    "2022/01/27 Code Challenge"
   ]
  },
  {
   "cell_type": "code",
   "execution_count": 109,
   "metadata": {},
   "outputs": [
    {
     "name": "stdout",
     "output_type": "stream",
     "text": [
      "[1, '12/6', '3', '2*2', 5, '9-4', '4+3', '2**3']\n"
     ]
    }
   ],
   "source": [
    "# sort expressions - list by expression-value ('4 + 2' = 6)\n",
    "\n",
    "expressions = [5, '4+3', '3', '2*2', '2**3', '12/6', 1, '9-4']\n",
    "\n",
    "expressions = [[v, v] if isinstance(v,int) else [v, eval(v)] for v in expressions]\n",
    "\n",
    "expressions = sorted(expressions, key=lambda e:e[1])\n",
    "\n",
    "print([e[0] for e in expressions])"
   ]
  },
  {
   "cell_type": "markdown",
   "metadata": {},
   "source": [
    "2022/01/31 Code Challenge"
   ]
  },
  {
   "cell_type": "code",
   "execution_count": 110,
   "metadata": {},
   "outputs": [
    {
     "name": "stdout",
     "output_type": "stream",
     "text": [
      "Accepted students:  An, Bo, Mo, My, Xi, "
     ]
    }
   ],
   "source": [
    "# Write code to handle admissions for a school\n",
    "# Rules: pass test and interview. If applicant is legacy\n",
    "# passing either test or interview is enough to be admitted.\n",
    "\n",
    "appl = ['Jay', 'Sam', 'Vi', 'Li', 'My', 'Xi', 'On', 'Mo', 'An', 'Bo']\n",
    "test_ok = ['xi', 'my', 'sam', 'an', 'mo', 'on']\n",
    "int_ok = ['my', 'li', 'an', 'mo', 'bo', 'jay']\n",
    "legacy = ['sue', 'bo', 'xi']\n",
    "\n",
    "accepted = []\n",
    "\n",
    "for x in test_ok:\n",
    "    if x in int_ok:\n",
    "        accepted.append(x)\n",
    "\n",
    "for y in legacy:\n",
    "    if (y in test_ok) or (y in int_ok):\n",
    "        accepted.append(y)\n",
    "\n",
    "print('Accepted students: ', end=' ')\n",
    "\n",
    "for a in sorted([t for t in set(accepted)]):\n",
    "    print(a.title(), end=', ')"
   ]
  },
  {
   "cell_type": "markdown",
   "metadata": {},
   "source": [
    "2022/02/04 Code Challenge"
   ]
  },
  {
   "cell_type": "code",
   "execution_count": null,
   "metadata": {},
   "outputs": [],
   "source": [
    "# Justin is resting and enjoying 'not being kidnapped' in Paris,\n",
    "# but unfortunately, local kidnappers grab him in the Louvre friday morning.\n",
    "# Just before police raid a known hideout, a semi-coded text-message was\n",
    "# intercepted from phone in hideout. Gang is known to use shifting Caesar ciphers,\n",
    "# with a code-key somehow indicating each letter shift\n",
    "\n",
    "# Police have no clue what to do...can you help and find Justin?\n",
    "# You know the code for encrypting a regular non-shifting Caesar(below),\n",
    "# but how to find the offsets?\n",
    "\n",
    "psw, intercepted_msg ='weshfrerot!elwiaojycqwfxbcbprrmabdhyviozepjpdgwfxbui'.split('!')\n",
    "gpsw = psw * (len(intercepted_msg) // len(psw))\n",
    "dd = len(intercepted_msg) - len(gpsw)\n",
    "if dd > 0:\n",
    "    gpsw += psw[:dd]\n",
    "    \n",
    "dbm = list(zip(intercepted_msg, gpsw))\n",
    "\n",
    "msg = ''.join([chr((ord(v[0]) - ord(v[1]) -97) %26 + 97) for v in dbm])\n",
    "\n",
    "print(msg)"
   ]
  },
  {
   "cell_type": "markdown",
   "metadata": {},
   "source": [
    "2022/02/07 Code Challenge"
   ]
  },
  {
   "cell_type": "code",
   "execution_count": 112,
   "metadata": {},
   "outputs": [
    {
     "name": "stdout",
     "output_type": "stream",
     "text": [
      "[['Ham-Dis', 'peace', 'piece', 'geese', 'tease', 'spoon'], ['peace', 0, 2, 3, 2, 5], ['piece', 2, 0, 3, 4, 5], ['geese', 3, 3, 0, 2, 5], ['tease', 2, 4, 2, 0, 5], ['spoon', 5, 5, 5, 5, 0]]\n"
     ]
    }
   ],
   "source": [
    "# Your company wants to start analyzing text-strings. As first step\n",
    "# your boss has heard of Hamming distances and wants you to create \n",
    "# code to calculate them. Hamming Distance: Number of positions at\n",
    "# which corresponding symbols are different, a==b >=0, a!=b =>1\n",
    "# Example: TIME and MINE => 1+0+1+0 = 2\n",
    "\n",
    "words = ['peace', 'piece', 'geese', 'tease', 'spoon']\n",
    "\n",
    "row = [[], [], [], [], [], []]\n",
    "row[0] = ['Ham-Dis', *words] \n",
    "\n",
    "i = 1\n",
    "for x in words:\n",
    "    row[i].append(x)\n",
    "    for y in words:\n",
    "        ham_dis = 0\n",
    "        for j in range(len(x)):\n",
    "            if x[j] != y[j]:\n",
    "                ham_dis += 1\n",
    "        row[i].append(ham_dis)\n",
    "    i += 1\n",
    "print(row)"
   ]
  },
  {
   "cell_type": "markdown",
   "metadata": {},
   "source": [
    "2022/04/11 Code Challenge"
   ]
  },
  {
   "cell_type": "code",
   "execution_count": 113,
   "metadata": {},
   "outputs": [
    {
     "name": "stdout",
     "output_type": "stream",
     "text": [
      "pairs = [['ad', 'da'], ['be', 'eb'], ['ck', 'kc'], ['gu', 'ug'], ['lv', 'vl']]\n",
      "singles = ['ho', 'nv', 'p1', 'se']\n"
     ]
    }
   ],
   "source": [
    "# After doing your laundry, you now have a bag full of socks\n",
    "# to pair up and sort. Right and left socks are mirror images\n",
    "# of each other. So 'ad' is paired with 'da', 'p1' with '1p', etc.\n",
    "# Write code to pair and sort your socks, putiing\n",
    "# leftover singles in a separate 'bag' for next time.\n",
    "\n",
    "socks = ['lv,eb,ho,ug,da,be,se,kc,p1,ck,gu,vl,nv,ad']\n",
    "socks = socks[0].split(',')\n",
    "socks.sort()\n",
    "pairs = []\n",
    "singles = []\n",
    "\n",
    "for sock in socks:\n",
    "    str = sock[1] + sock[0]\n",
    "    if str in socks:\n",
    "        pairs.append([sock, str])\n",
    "        socks.remove(str)\n",
    "    else:\n",
    "        singles.append(sock)\n",
    "\n",
    "print('pairs =', pairs)\n",
    "print('singles =', singles)"
   ]
  },
  {
   "cell_type": "markdown",
   "metadata": {},
   "source": [
    "2022/04/16 Code Challenge"
   ]
  },
  {
   "cell_type": "code",
   "execution_count": 115,
   "metadata": {},
   "outputs": [
    {
     "name": "stdout",
     "output_type": "stream",
     "text": [
      "talbes = [['g1', 'r1', 'y1'], ['g2', 'r2', 'y2'], ['g3', 'r3', 'y3']]\n"
     ]
    }
   ],
   "source": [
    "# For easter dinner you want to use your 9 colored easter eggs\n",
    "# as decorations. You need to program your robot to put on egg\n",
    "# of each color on each table\n",
    "\n",
    "eggs =['r2', 'g1', 'y2', 'r3', 'g3', 'r1', 'y1', 'g2', 'y3']\n",
    "\n",
    "eggs.sort(key = lambda s: s[0])\n",
    "\n",
    "eggs.sort(key = lambda s: s[1])\n",
    "\n",
    "baskets = []\n",
    "\n",
    "for i in range(0, len(eggs), 3):\n",
    "    baskets.append([eggs[i], eggs[i+1], eggs[i+2]])\n",
    "\n",
    "print('talbes =', baskets)"
   ]
  },
  {
   "cell_type": "markdown",
   "metadata": {},
   "source": [
    "2022/04/19 Code Challenge"
   ]
  },
  {
   "cell_type": "code",
   "execution_count": 116,
   "metadata": {},
   "outputs": [
    {
     "name": "stdout",
     "output_type": "stream",
     "text": [
      "['342', '512', '333', '123', '724', '400']\n"
     ]
    }
   ],
   "source": [
    "# You receive a partially corrupted 3 digit data string.\n",
    "# Write code to clean string & sort data to list of 3 digits.\n",
    "\n",
    "data = 'z342512?b333~h123>n<724BBB400*a'\n",
    "clean = []\n",
    "for s in data:\n",
    "    if s.isdigit():\n",
    "        clean.append(s)\n",
    "sstr = ''\n",
    "for s in clean:\n",
    "    sstr += s\n",
    "clean_data = []\n",
    "for i in range(0, len(sstr), 3):\n",
    "    clean_data.append(sstr[i:i+3])\n",
    "\n",
    "print(clean_data)"
   ]
  },
  {
   "cell_type": "markdown",
   "metadata": {},
   "source": [
    "2022/04/26 Code Challenge"
   ]
  },
  {
   "cell_type": "code",
   "execution_count": 117,
   "metadata": {},
   "outputs": [
    {
     "name": "stdout",
     "output_type": "stream",
     "text": [
      "Artworks 2, 4, 8, 9, can be shown to client.\n"
     ]
    }
   ],
   "source": [
    "# You are selecting art for a client with special tastes\n",
    "# Client wants only to be shown art with favorite colors,\n",
    "# blue(b), yellow(y), or red(r), but only one color per artpiece\n",
    "# So if a piece has blue, it must not contain yellow or red.\n",
    "# Write code to help you select pieces to show client.\n",
    "# All art available has been color-coded by your assistant.\n",
    "\n",
    "arts = ['1ygb', '2gbw', '3ybg', '4mbg', '5bgy', '6grb', '7yrg', '8grm', '9owy']\n",
    "colors = ['b', 'y', 'r']\n",
    "items = {}\n",
    "\n",
    "for art in arts:\n",
    "    frq = 0\n",
    "    for color in colors:\n",
    "        if color in art:\n",
    "            frq += 1\n",
    "    items[art] = frq\n",
    "\n",
    "print('Artworks', end =' ')\n",
    "\n",
    "for k, v in items.items():\n",
    "    if v == 1:\n",
    "        print(k[0], end=', ')\n",
    "\n",
    "print('can be shown to client.')"
   ]
  },
  {
   "cell_type": "markdown",
   "metadata": {},
   "source": [
    "2022/05/02 Code Challenge"
   ]
  },
  {
   "cell_type": "code",
   "execution_count": 118,
   "metadata": {},
   "outputs": [
    {
     "name": "stdout",
     "output_type": "stream",
     "text": [
      "Correct names are: Eric, Michael, Terry, John, Graham, Terry, "
     ]
    }
   ],
   "source": [
    "# Your user registeration system had a bug, which got all\n",
    "# the names backwards. Write code to print names in proper\n",
    "# format, before users notive problem\n",
    "\n",
    "wrong_names = ['Yrret, Maharg, Nhoj, Yrret, Leahcim, Cire']\n",
    "correct_names = wrong_names[0][::-1].lower().split(' ,')\n",
    "\n",
    "print('Correct names are: ', end='')\n",
    "for name in correct_names:\n",
    "    print(name.title(), end=', ')"
   ]
  },
  {
   "cell_type": "markdown",
   "metadata": {},
   "source": [
    "2022/05/04 Code Challenge"
   ]
  },
  {
   "cell_type": "code",
   "execution_count": 119,
   "metadata": {},
   "outputs": [
    {
     "name": "stdout",
     "output_type": "stream",
     "text": [
      "q = ['CL,105.3', 'GC,1866.40', 'SI,22.85', 'CL,105.4', 'NG,7.525', 'CL,105.6', 'GC,1886.80', 'NG,7.535']\n",
      "# New queue should be\n",
      "new_q = ['CL,105.6', 'GC,1886.80', 'SI,22.85', 'NG,7.535']\n",
      "# and as each price is printed out, remove that price update\n",
      "Crude Oil(CL) 105.6, new_q = ['GC,1886.80', 'SI,22.85', 'NG,7.535']\n",
      "Gold(GC) 1886.80, new_q = ['SI,22.85', 'NG,7.535']\n",
      "Silver(SI) 22.85, new_q = ['NG,7.535']\n",
      "Natural Gas(NG) 7.535, new_q = []\n"
     ]
    }
   ],
   "source": [
    "# Your website shows oil(CL), natural gas(NG), gold(GC) and silver(SI) prices in 'real-time'\n",
    "# in fast markets. Price updates lag behind as queue overloads and users get upset.\n",
    "# Current code displays all updates in order they arrived to queue. Create new queue\n",
    "# handler that updates latest available price for each commodity, hopefully faster\n",
    "# new prices are added to end of list, and first position is read and then removed from queue\n",
    "\n",
    "q = ['CL,105.3', 'GC,1866.40', 'SI,22.85', 'CL,105.4', 'NG,7.525', 'CL,105.6', 'GC,1886.80', 'NG,7.535']\n",
    "codes = {'CL': 'Crude Oil', 'GC': 'Gold', 'SI': 'Silver', 'NG': 'Natural Gas', }\n",
    "new_q = []\n",
    "\n",
    "for item in q:\n",
    "    for item1 in new_q:\n",
    "        if item1[:2] == item[:2]:\n",
    "            new_q[new_q.index(item1)] = item\n",
    "            break\n",
    "    else:\n",
    "        new_q.append(item)\n",
    "\n",
    "print('q =', q)\n",
    "print('# New queue should be')\n",
    "print('new_q =', new_q)\n",
    "print('# and as each price is printed out, remove that price update')\n",
    "\n",
    "for i in range(len(new_q)):\n",
    "    info = new_q.pop(0)\n",
    "    code = info[:2]\n",
    "    price = info[3:]\n",
    "    print(f'{codes[code]}({code}) {price}, ', end ='')\n",
    "    print('new_q =', new_q)"
   ]
  },
  {
   "cell_type": "markdown",
   "metadata": {},
   "source": [
    "2022/05/06 Code Challenge"
   ]
  },
  {
   "cell_type": "code",
   "execution_count": 120,
   "metadata": {},
   "outputs": [
    {
     "name": "stdout",
     "output_type": "stream",
     "text": [
      "The twisted numbers are: 86, 684, 1912, 1430, 16, 148, "
     ]
    }
   ],
   "source": [
    "# Print out the reverse of the number with each digit doubled\n",
    "# example 426 -> (reverse) 624 -> (double) 1248\n",
    "\n",
    "numbers = [34, 243, 659, 517, 8, 47]\n",
    "\n",
    "def twist(num):\n",
    "    num1 = 0\n",
    "    while num != 0:\n",
    "        num1 = num1 * 10 + (num % 10)\n",
    "        num = int(num / 10)\n",
    "    return num1 * 2\n",
    "\n",
    "print('The twisted numbers are:', end=' ')\n",
    "for number in numbers:\n",
    "    print(twist(number), end=', ')"
   ]
  },
  {
   "cell_type": "markdown",
   "metadata": {},
   "source": [
    "2022/05/10 Code Challenge"
   ]
  },
  {
   "cell_type": "code",
   "execution_count": 121,
   "metadata": {},
   "outputs": [
    {
     "name": "stdout",
     "output_type": "stream",
     "text": [
      "C(6,6), D(4,8), E(11,2), B(5,2), A(3,3), "
     ]
    }
   ],
   "source": [
    "# A tropical paradise realtor has landplots below for sale\n",
    "# ['ID', length, width] in multiples of 10 m (5 = 50m) \n",
    "# Write code to help them sort list by plot area\n",
    "\n",
    "plot =[['A', 3, 3], ['B', 5, 2], ['C', 6, 6], ['D', 4, 8], ['E', 11, 2]]\n",
    "\n",
    "for item in sorted(plot, key=lambda plot: plot[1]*plot[2], reverse=True):\n",
    "    print (f'{item[0]}({item[1]},{item[2]})', end=', ')"
   ]
  }
 ],
 "metadata": {
  "kernelspec": {
   "display_name": "Python 3.10.5 64-bit",
   "language": "python",
   "name": "python3"
  },
  "language_info": {
   "codemirror_mode": {
    "name": "ipython",
    "version": 3
   },
   "file_extension": ".py",
   "mimetype": "text/x-python",
   "name": "python",
   "nbconvert_exporter": "python",
   "pygments_lexer": "ipython3",
   "version": "3.10.5"
  },
  "orig_nbformat": 4,
  "vscode": {
   "interpreter": {
    "hash": "3e6eaf00392b0cb8b5a646d3515e821c15d6342d64f11192f7e7dc8c1b273a06"
   }
  }
 },
 "nbformat": 4,
 "nbformat_minor": 2
}
