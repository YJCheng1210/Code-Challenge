{
 "cells": [
  {
   "cell_type": "markdown",
   "metadata": {},
   "source": [
    "2021/11/16 Code Challenge"
   ]
  },
  {
   "cell_type": "code",
   "execution_count": 1,
   "metadata": {},
   "outputs": [
    {
     "name": "stdout",
     "output_type": "stream",
     "text": [
      "Found:  ['holy', 'grail', 'life', 'of', 'brian', 'fool']\n",
      "Not Found:  ['monty', 'python', 'rain']\n",
      "Found:  ['liar', 'lots', 'near', 'rail', 'lend', 'liar', 'nine', 'rod', 'risk']\n",
      "Not Found:  ['nine', 'nary', 'rod', 'lyeonly', 'hope', 'car', 'so', 'risk', 'lots', 'nary', 'near', 'lyeonly', 'rail', 'hope', 'car', 'so', 'lend']\n"
     ]
    }
   ],
   "source": [
    "# Print the words you can find in the 10X5 word matrix.\n",
    "# Reading forwards or backwards.\n",
    "\n",
    "words1 = ['holy', 'grail', 'monty', 'python',\n",
    "        'life', 'of', 'brian', 'fool', 'rain']\n",
    "\n",
    "words2 = ['liar', 'nine', 'lots', 'nary', 'near', 'rod', 'lye'\n",
    "          'only', 'rail', 'hope', 'car', 'so', 'risk', 'lend']\n",
    "\n",
    "matrix = ['nlifeloofw',\n",
    "          'liargoyloh',\n",
    "          'oanairbens',\n",
    "          'troeasonst',\n",
    "          'swgndmkdhr']\n",
    "\n",
    "forwards = matrix.copy()\n",
    "backwards = []\n",
    "vertical1 = []\n",
    "vertical2 = []\n",
    "diagonal1 = []\n",
    "diagonal2 = []\n",
    "\n",
    "for row in matrix:\n",
    "    backwards.append(row[::-1])\n",
    "\n",
    "output1 = []\n",
    "not_found1 = []\n",
    "output2 = []\n",
    "not_found2 = []\n",
    "\n",
    "for w in words1:\n",
    "    not_found = True\n",
    "    for f in forwards:\n",
    "        if w in f:\n",
    "            output1.append(w)\n",
    "            not_found = False\n",
    "    for b in backwards:\n",
    "        if w in b:\n",
    "            if w not in output1:\n",
    "                output1.append(w)\n",
    "                not_found = False\n",
    "    if not_found:\n",
    "        not_found1.append(w)\n",
    "\n",
    "print('Found: ', output1)\n",
    "print('Not Found: ', not_found1)\n",
    "\n",
    "for j in range(len(matrix[0])):\n",
    "    str = ''\n",
    "    for i in range(len(matrix)):\n",
    "        str = str + matrix[i][j]\n",
    "    vertical1.append(str)\n",
    "    vertical2.append(str[::-1])\n",
    "\n",
    "for w in words2:\n",
    "    not_found = True\n",
    "    for v in vertical1:\n",
    "        if w in v:\n",
    "            output2.append(w)\n",
    "            not_found = False\n",
    "    for v in vertical2:\n",
    "        if w in v:\n",
    "            if w not in output2:\n",
    "                output2.append(w)\n",
    "                not_found = False\n",
    "    if not_found:\n",
    "        not_found2.append(w)\n",
    "\n",
    "for j in  range(0, 10):\n",
    "    str = ''\n",
    "    for i in range(0, 5):\n",
    "        if (i + j < 10):\n",
    "            str = str + matrix[i][i+j] \n",
    "    diagonal1.append(str)\n",
    "\n",
    "for i in range(1, 5):\n",
    "    str = ''\n",
    "    for j in range(0, 4):\n",
    "        str = str + matrix[i][j]\n",
    "    diagonal1.append(str)\n",
    "\n",
    "for w in words2:\n",
    "    not_found = True\n",
    "    for v in diagonal1:\n",
    "        if w in v:\n",
    "            output2.append(w)\n",
    "            not_found = False\n",
    "    if not_found:\n",
    "        not_found2.append(w)\n",
    "\n",
    "print('Found: ', output2)\n",
    "print('Not Found: ', not_found2)"
   ]
  },
  {
   "cell_type": "markdown",
   "metadata": {},
   "source": [
    "2021/11/17 Code Challenge"
   ]
  },
  {
   "cell_type": "code",
   "execution_count": 3,
   "metadata": {},
   "outputs": [
    {
     "name": "stdout",
     "output_type": "stream",
     "text": [
      "{'Oddjob': ['007', 'Goldfinger', 'Felix'], 'Zorin': ['Mayday'], 'Jaws': ['Drax', 'Drax', '007'], 'Felix': ['007', 'Vesper', 'Oddjob'], '007': ['Felix', 'Vesper', 'Scaramanga', 'Mayday', 'Oddjob', 'Drax', 'Scaramanga', 'Blofeld', 'Goldfinger', 'Vesper', 'Jaws'], 'Drax': ['007', 'Jaws', 'Blofeld', 'Jaws'], 'Blofeld': ['Vesper', 'Chiffre', '007', 'Drax'], 'Chiffre': ['Blofeld', 'Vesper'], 'Mayday': ['007', 'Zorin'], 'Scaramanga': ['007', 'No', '007'], 'No': ['Scaramanga'], 'Vesper': ['007', 'Blofeld', 'Felix', 'Chiffre', '007'], 'Goldfinger': ['Oddjob', '007']}\n"
     ]
    }
   ],
   "source": [
    "# You observe a Spectre party and log who interacts with (and knows) who\n",
    "# based on data you superiors want a compiled report of who knows who.\n",
    "# output format dictionary with {person:[friends],...}\n",
    "\n",
    "interactions = [['007','Felix'],['007','Vesper'],['Vesper','Blofeld'],['Felix','Vesper'],['007','Scaramanga'],\n",
    "                ['Blofeld','Chiffre'],['Mayday','007'],['Oddjob','007'],['007','Drax'],['No','Scaramanga'],\n",
    "                ['Drax','Jaws'],['007','Scaramanga'],['Goldfinger','Oddjob'],['Vesper','Chiffre'],['Zorin','Mayday'],\n",
    "                ['Blofeld','007'],['007','Goldfinger'],['Blofeld','Drax'],['Jaws','Drax'],['Felix','Oddjob'],\n",
    "                ['Vesper','007'],['Jaws','007']]\n",
    "\n",
    "people = []\n",
    "\n",
    "for pair in interactions:\n",
    "    people.append(pair[0])\n",
    "    people.append(pair[1])\n",
    "\n",
    "people = set(people)\n",
    "\n",
    "friend_dict= {}\n",
    "\n",
    "for p in people:\n",
    "    friends = []\n",
    "    for pair in interactions:\n",
    "        if p in pair:\n",
    "            for f in pair:\n",
    "                if f != p:\n",
    "                    friends.append(f)\n",
    "    friend_dict[p] = friends\n",
    "\n",
    "print(friend_dict)"
   ]
  },
  {
   "cell_type": "markdown",
   "metadata": {},
   "source": [
    "2021/11/23 Code Challenge"
   ]
  },
  {
   "cell_type": "code",
   "execution_count": 4,
   "metadata": {},
   "outputs": [
    {
     "name": "stdout",
     "output_type": "stream",
     "text": [
      "['eat', 'play', 'jump']\n",
      "{'eat': ['er', 'ing', 's'], 'play': ['s', 'ing', 'er'], 'jump': ['s', 'er', 'ing']}\n",
      "eater\n",
      "jumping\n"
     ]
    }
   ],
   "source": [
    "# Find the word root of the words presented\n",
    "\n",
    "import snowballstemmer \n",
    "stemmer = snowballstemmer.stemmer(\"english\")\n",
    "\n",
    "words = ['plays', 'eater', 'jumps', 'jumper', 'eating', 'jumping', 'eats', 'playing', 'player']\n",
    "\n",
    "roots = []\n",
    "for w in words:\n",
    "    roots.append(stemmer.stemWord(w))\n",
    "\n",
    "root = []\n",
    "\n",
    "for i in range(0, len(roots)):\n",
    "    for j in range(i+1, len(roots)):\n",
    "        if roots[i] in roots[j]:\n",
    "            root.append(roots[i])\n",
    "\n",
    "roots = [w for w in set(root)]\n",
    "\n",
    "print(roots)\n",
    "\n",
    "# Advanced: add the endings in a dictionary\n",
    "\n",
    "word_dict = {}\n",
    "\n",
    "for x in roots:\n",
    "    suffix = []\n",
    "    for y in words:\n",
    "        if x in y:\n",
    "            w1, w2 = y.split(x)\n",
    "            suffix.append(w2)\n",
    "    word_dict[x] = suffix\n",
    "\n",
    "print(word_dict)\n",
    "\n",
    "# 2 Write a function that outputs + correct ending\n",
    "\n",
    "def word_creator(w, l):\n",
    "    for s in word_dict.get(w):\n",
    "        if len(s) == l:\n",
    "            return w+s\n",
    "\n",
    "print(word_creator('eat', 2))\n",
    "print(word_creator('jump', 3))"
   ]
  },
  {
   "cell_type": "markdown",
   "metadata": {},
   "source": [
    "2021/11/29 Code Challenge"
   ]
  },
  {
   "cell_type": "code",
   "execution_count": 5,
   "metadata": {},
   "outputs": [
    {
     "name": "stdout",
     "output_type": "stream",
     "text": [
      "safe: ['Eric', 'John', 'Rick', 'Michael', 'Terry']\n",
      "bumped: ['Tosh', 'Ed', 'Candy']\n"
     ]
    }
   ],
   "source": [
    "# You monitor airline passengers and have received a 'No Fly' list from authorities.\n",
    "# Remember all passengers on no_fly from passenger list to creat safe list.append\n",
    "\n",
    "passengers = ['Eric', 'Tosh', 'John', 'Ed', 'Rick', 'Michael', 'Candy', 'Terry']\n",
    "\n",
    "no_fly = ['Johnny', 'Tosh', 'Rick', 'Ed', 'Candy', 'Roger', 'Deb', 'Tim']\n",
    "\n",
    "safe = passengers.copy()\n",
    "bumped = []\n",
    "\n",
    "for p in safe:\n",
    "    if p in no_fly:\n",
    "        bumped.append(p)\n",
    "        safe.remove(p)\n",
    "\n",
    "print('safe:', safe)\n",
    "print('bumped:', bumped)"
   ]
  }
 ],
 "metadata": {
  "kernelspec": {
   "display_name": "Python 3.10.5 64-bit",
   "language": "python",
   "name": "python3"
  },
  "language_info": {
   "codemirror_mode": {
    "name": "ipython",
    "version": 3
   },
   "file_extension": ".py",
   "mimetype": "text/x-python",
   "name": "python",
   "nbconvert_exporter": "python",
   "pygments_lexer": "ipython3",
   "version": "3.10.5"
  },
  "orig_nbformat": 4,
  "vscode": {
   "interpreter": {
    "hash": "3e6eaf00392b0cb8b5a646d3515e821c15d6342d64f11192f7e7dc8c1b273a06"
   }
  }
 },
 "nbformat": 4,
 "nbformat_minor": 2
}
