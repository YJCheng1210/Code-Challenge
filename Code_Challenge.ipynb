{
 "cells": [
  {
   "cell_type": "markdown",
   "metadata": {},
   "source": [
    "2021/11/16 Code Challenge"
   ]
  },
  {
   "cell_type": "code",
   "execution_count": 73,
   "metadata": {},
   "outputs": [
    {
     "name": "stdout",
     "output_type": "stream",
     "text": [
      "Found:  ['holy', 'grail', 'life', 'of', 'brian', 'fool']\n",
      "Not Found:  ['monty', 'python', 'rain']\n",
      "Found:  ['liar', 'lots', 'near', 'rail', 'lend', 'liar', 'nine', 'rod', 'risk']\n",
      "Not Found:  ['nine', 'nary', 'rod', 'lyeonly', 'hope', 'car', 'so', 'risk', 'lots', 'nary', 'near', 'lyeonly', 'rail', 'hope', 'car', 'so', 'lend']\n"
     ]
    }
   ],
   "source": [
    "# Print the words you can find in the 10X5 word matrix.\n",
    "# Reading forwards or backwards.\n",
    "\n",
    "words1 = ['holy', 'grail', 'monty', 'python',\n",
    "        'life', 'of', 'brian', 'fool', 'rain']\n",
    "\n",
    "words2 = ['liar', 'nine', 'lots', 'nary', 'near', 'rod', 'lye'\n",
    "          'only', 'rail', 'hope', 'car', 'so', 'risk', 'lend']\n",
    "\n",
    "matrix = ['nlifeloofw',\n",
    "          'liargoyloh',\n",
    "          'oanairbens',\n",
    "          'troeasonst',\n",
    "          'swgndmkdhr']\n",
    "\n",
    "forwards = matrix.copy()\n",
    "backwards = []\n",
    "vertical1 = []\n",
    "vertical2 = []\n",
    "diagonal1 = []\n",
    "diagonal2 = []\n",
    "\n",
    "for row in matrix:\n",
    "    backwards.append(row[::-1])\n",
    "\n",
    "output1 = []\n",
    "not_found1 = []\n",
    "output2 = []\n",
    "not_found2 = []\n",
    "\n",
    "for w in words1:\n",
    "    not_found = True\n",
    "    for f in forwards:\n",
    "        if w in f:\n",
    "            output1.append(w)\n",
    "            not_found = False\n",
    "    for b in backwards:\n",
    "        if w in b:\n",
    "            if w not in output1:\n",
    "                output1.append(w)\n",
    "                not_found = False\n",
    "    if not_found:\n",
    "        not_found1.append(w)\n",
    "\n",
    "print('Found: ', output1)\n",
    "print('Not Found: ', not_found1)\n",
    "\n",
    "for j in range(len(matrix[0])):\n",
    "    sstr = ''\n",
    "    for i in range(len(matrix)):\n",
    "        sstr = sstr + matrix[i][j]\n",
    "    vertical1.append(sstr)\n",
    "    vertical2.append(sstr[::-1])\n",
    "\n",
    "for w in words2:\n",
    "    not_found = True\n",
    "    for v in vertical1:\n",
    "        if w in v:\n",
    "            output2.append(w)\n",
    "            not_found = False\n",
    "    for v in vertical2:\n",
    "        if w in v:\n",
    "            if w not in output2:\n",
    "                output2.append(w)\n",
    "                not_found = False\n",
    "    if not_found:\n",
    "        not_found2.append(w)\n",
    "\n",
    "for j in  range(0, 10):\n",
    "    sstr = ''\n",
    "    for i in range(0, 5):\n",
    "        if (i + j < 10):\n",
    "            sstr = sstr + matrix[i][i+j] \n",
    "    diagonal1.append(sstr)\n",
    "\n",
    "for i in range(1, 5):\n",
    "    sstr = ''\n",
    "    for j in range(0, 4):\n",
    "        sstr = sstr + matrix[i][j]\n",
    "    diagonal1.append(sstr)\n",
    "\n",
    "for w in words2:\n",
    "    not_found = True\n",
    "    for v in diagonal1:\n",
    "        if w in v:\n",
    "            output2.append(w)\n",
    "            not_found = False\n",
    "    if not_found:\n",
    "        not_found2.append(w)\n",
    "\n",
    "print('Found: ', output2)\n",
    "print('Not Found: ', not_found2)"
   ]
  },
  {
   "cell_type": "markdown",
   "metadata": {},
   "source": [
    "2021/11/17 Code Challenge"
   ]
  },
  {
   "cell_type": "code",
   "execution_count": 74,
   "metadata": {},
   "outputs": [
    {
     "name": "stdout",
     "output_type": "stream",
     "text": [
      "{'Oddjob': ['007', 'Goldfinger', 'Felix'], 'Zorin': ['Mayday'], 'Jaws': ['Drax', 'Drax', '007'], 'Felix': ['007', 'Vesper', 'Oddjob'], '007': ['Felix', 'Vesper', 'Scaramanga', 'Mayday', 'Oddjob', 'Drax', 'Scaramanga', 'Blofeld', 'Goldfinger', 'Vesper', 'Jaws'], 'Drax': ['007', 'Jaws', 'Blofeld', 'Jaws'], 'Blofeld': ['Vesper', 'Chiffre', '007', 'Drax'], 'Chiffre': ['Blofeld', 'Vesper'], 'Mayday': ['007', 'Zorin'], 'Scaramanga': ['007', 'No', '007'], 'No': ['Scaramanga'], 'Vesper': ['007', 'Blofeld', 'Felix', 'Chiffre', '007'], 'Goldfinger': ['Oddjob', '007']}\n"
     ]
    }
   ],
   "source": [
    "# You observe a Spectre party and log who interacts with (and knows) who\n",
    "# based on data you superiors want a compiled report of who knows who.\n",
    "# output format dictionary with {person:[friends],...}\n",
    "\n",
    "interactions = [['007','Felix'],['007','Vesper'],['Vesper','Blofeld'],['Felix','Vesper'],['007','Scaramanga'],\n",
    "                ['Blofeld','Chiffre'],['Mayday','007'],['Oddjob','007'],['007','Drax'],['No','Scaramanga'],\n",
    "                ['Drax','Jaws'],['007','Scaramanga'],['Goldfinger','Oddjob'],['Vesper','Chiffre'],['Zorin','Mayday'],\n",
    "                ['Blofeld','007'],['007','Goldfinger'],['Blofeld','Drax'],['Jaws','Drax'],['Felix','Oddjob'],\n",
    "                ['Vesper','007'],['Jaws','007']]\n",
    "\n",
    "people = []\n",
    "\n",
    "for pair in interactions:\n",
    "    people.append(pair[0])\n",
    "    people.append(pair[1])\n",
    "\n",
    "people = set(people)\n",
    "\n",
    "friend_dict= {}\n",
    "\n",
    "for p in people:\n",
    "    friends = []\n",
    "    for pair in interactions:\n",
    "        if p in pair:\n",
    "            for f in pair:\n",
    "                if f != p:\n",
    "                    friends.append(f)\n",
    "    friend_dict[p] = friends\n",
    "\n",
    "print(friend_dict)"
   ]
  },
  {
   "cell_type": "markdown",
   "metadata": {},
   "source": [
    "2021/11/23 Code Challenge"
   ]
  },
  {
   "cell_type": "code",
   "execution_count": 75,
   "metadata": {},
   "outputs": [
    {
     "name": "stdout",
     "output_type": "stream",
     "text": [
      "['eat', 'play', 'jump']\n",
      "{'eat': ['er', 'ing', 's'], 'play': ['s', 'ing', 'er'], 'jump': ['s', 'er', 'ing']}\n",
      "eater\n",
      "jumping\n"
     ]
    }
   ],
   "source": [
    "# Find the word root of the words presented\n",
    "\n",
    "import snowballstemmer \n",
    "stemmer = snowballstemmer.stemmer(\"english\")\n",
    "\n",
    "words = ['plays', 'eater', 'jumps', 'jumper', 'eating', 'jumping', 'eats', 'playing', 'player']\n",
    "\n",
    "roots = []\n",
    "for w in words:\n",
    "    roots.append(stemmer.stemWord(w))\n",
    "\n",
    "root = []\n",
    "\n",
    "for i in range(0, len(roots)):\n",
    "    for j in range(i+1, len(roots)):\n",
    "        if roots[i] in roots[j]:\n",
    "            root.append(roots[i])\n",
    "\n",
    "roots = [w for w in set(root)]\n",
    "\n",
    "print(roots)\n",
    "\n",
    "# Advanced: add the endings in a dictionary\n",
    "\n",
    "word_dict = {}\n",
    "\n",
    "for x in roots:\n",
    "    suffix = []\n",
    "    for y in words:\n",
    "        if x in y:\n",
    "            w1, w2 = y.split(x)\n",
    "            suffix.append(w2)\n",
    "    word_dict[x] = suffix\n",
    "\n",
    "print(word_dict)\n",
    "\n",
    "# 2 Write a function that outputs + correct ending\n",
    "\n",
    "def word_creator(w, l):\n",
    "    for s in word_dict.get(w):\n",
    "        if len(s) == l:\n",
    "            return w+s\n",
    "\n",
    "print(word_creator('eat', 2))\n",
    "print(word_creator('jump', 3))"
   ]
  },
  {
   "cell_type": "markdown",
   "metadata": {},
   "source": [
    "2021/11/29 Code Challenge"
   ]
  },
  {
   "cell_type": "code",
   "execution_count": 76,
   "metadata": {},
   "outputs": [
    {
     "name": "stdout",
     "output_type": "stream",
     "text": [
      "safe: ['Eric', 'John', 'Rick', 'Michael', 'Terry']\n",
      "bumped: ['Tosh', 'Ed', 'Candy']\n"
     ]
    }
   ],
   "source": [
    "# You monitor airline passengers and have received a 'No Fly' list from authorities.\n",
    "# Remember all passengers on no_fly from passenger list to creat safe list.append\n",
    "\n",
    "passengers = ['Eric', 'Tosh', 'John', 'Ed', 'Rick', 'Michael', 'Candy', 'Terry']\n",
    "\n",
    "no_fly = ['Johnny', 'Tosh', 'Rick', 'Ed', 'Candy', 'Roger', 'Deb', 'Tim']\n",
    "\n",
    "safe = passengers.copy()\n",
    "bumped = []\n",
    "\n",
    "for p in safe:\n",
    "    if p in no_fly:\n",
    "        bumped.append(p)\n",
    "        safe.remove(p)\n",
    "\n",
    "print('safe:', safe)\n",
    "print('bumped:', bumped)"
   ]
  },
  {
   "cell_type": "markdown",
   "metadata": {},
   "source": [
    "2021/12/02 Code Challenge"
   ]
  },
  {
   "cell_type": "code",
   "execution_count": 77,
   "metadata": {},
   "outputs": [
    {
     "name": "stdout",
     "output_type": "stream",
     "text": [
      "Bread: 1x20, 1x2, \n",
      "\n",
      "Pizza: 1x20, 1x10, 1x5, 1x2, 1x1, \n",
      "\n",
      "Hamburger: 1x50, 1x10, 1x0.5, \n",
      "\n"
     ]
    }
   ],
   "source": [
    "# Write code to give correct change when someone pays for item\n",
    "# in your store. Give back as few pieces of change as possible\n",
    "# purchase(format): ['item', prices, payment_received]\n",
    "\n",
    "purchases = [['Bread', 28, 50], ['Pizza', 62, 100], ['Hamburger', 39.5, 100]]\n",
    "\n",
    "available_moneys = [100, 50, 20, 10, 5 ,2, 1, 0.5]\n",
    "list1 = []\n",
    "\n",
    "for purchase in purchases:\n",
    "    item = purchase[0]\n",
    "    change = purchase[2] - purchase[1]\n",
    "    payments = []\n",
    "    while change != 0:\n",
    "        for i in range(len(available_moneys)):\n",
    "            if change // available_moneys[i] >= 1:\n",
    "                payments.append([int(change // available_moneys[i]), available_moneys[i]])\n",
    "                change = change % available_moneys[i]\n",
    "\n",
    "    list1.append([purchase[0], *payments])\n",
    "\n",
    "for lst in list1:\n",
    "    print(lst[0], end =': ')\n",
    "    for i in range(1, len(lst)):\n",
    "        print(f'{lst[i][0]}x{lst[i][1]}', end=', ')\n",
    "    print('\\n')"
   ]
  },
  {
   "cell_type": "markdown",
   "metadata": {},
   "source": [
    "2021/12/16 Code Challenge"
   ]
  },
  {
   "cell_type": "code",
   "execution_count": 78,
   "metadata": {},
   "outputs": [
    {
     "name": "stdout",
     "output_type": "stream",
     "text": [
      "Stock portfolio value (2020) : 34898 USD\n",
      "FB 15 4365 USD\n",
      "GOOG 5 10265 USD\n",
      "TSLA 9 5958 USD\n",
      "AAPL 45 5490 USD\n",
      "NFLX 12 6420 USD\n",
      "BTC 0.1 2400 USD\n",
      "\n",
      "Stock portfolio value (2021) : 48830 USD, return(2021): 13932 USD\n",
      "FB 15 5100 USD, retrun = 735 USD\n",
      "GOOG 5 14825 USD, retrun = 4560 USD\n",
      "TSLA 9 8865 USD, retrun = 2907 USD\n",
      "AAPL 45 8100 USD, retrun = 2610 USD\n",
      "NFLX 12 7140 USD, retrun = 720 USD\n",
      "BTC 0.1 4800 USD, retrun = 2400 USD\n"
     ]
    }
   ],
   "source": [
    "# Write code to calculate value of stocks / crypto and pordolio by combining\n",
    "# data from two sources. Market contains 2020 price of stocks \n",
    "\n",
    "market = {'TSLA': 662, 'GOOG': 2053, 'AAPL': 122, 'FB': 291, 'NFLX': 535, 'BTC': 24000}\n",
    "\n",
    "positions = {'FB': 15, 'GOOG': 5, 'TSLA': 9, 'AAPL': 45, 'NFLX': 12, 'BTC': 0.1}\n",
    "\n",
    "amount = 0\n",
    "\n",
    "str0 = ''\n",
    "\n",
    "for k, v in positions.items():\n",
    "    str0 = str0 + f'\\n{k} {v} {int(market.get(k)*v)} USD'\n",
    "    amount = amount + int(market.get(k) * v)\n",
    "str0 = f'Stock portfolio value (2020) : {amount} USD' + str0\n",
    "\n",
    "print(str0)\n",
    "\n",
    "market_2021 = {'TSLA': 985, 'GOOG': 2965, 'AAPL': 180, 'FB': 340, 'NFLX': 595, 'BTC': 48000}\n",
    "\n",
    "amount1 = 0\n",
    "amount2 = 0\n",
    "str1 = ''\n",
    "\n",
    "for k, v in positions.items():\n",
    "    x = int(market_2021.get(k)*v)\n",
    "    y = int(market.get(k)*v)\n",
    "    str1 = str1 + f'\\n{k} {v} {x} USD'\n",
    "    str1 = str1 + f', retrun = {x-y} USD'\n",
    "    amount1 = amount1 + x\n",
    "    amount2 = amount2 + x - y\n",
    "str1 = f'\\nStock portfolio value (2021) : {amount1} USD, return(2021): {amount2} USD' + str1\n",
    "print(str1)"
   ]
  },
  {
   "cell_type": "markdown",
   "metadata": {},
   "source": [
    "2021/12/21 Code Challenge"
   ]
  },
  {
   "cell_type": "code",
   "execution_count": 83,
   "metadata": {},
   "outputs": [
    {
     "name": "stdout",
     "output_type": "stream",
     "text": [
      "Your card:  **** **** **** 5555\n",
      "Your card:  *1** **** *11* 5555\n"
     ]
    }
   ],
   "source": [
    "input = '4154455441155555'\n",
    "\n",
    "input = [s for s in input]\n",
    "\n",
    "digits = [input[i:i+4] for i in range(0, len(input), 4)]\n",
    "\n",
    "encrypt = ''\n",
    "\n",
    "for digit in digits[:-1]:\n",
    "    for element in digit:\n",
    "        encrypt += '*'\n",
    "    encrypt += ' '\n",
    "\n",
    "encrypt += ''.join(digits[-1])\n",
    "\n",
    "print('Your card: ', encrypt)\n",
    "\n",
    "\n",
    "encrypt = ''\n",
    "\n",
    "for digit in digits[:-1]:\n",
    "    for element in digit:\n",
    "        if int(element) != 1:\n",
    "            encrypt += '*'\n",
    "        else:\n",
    "            encrypt += element\n",
    "    encrypt += ' '\n",
    "\n",
    "encrypt += ''.join(digits[-1])\n",
    "\n",
    "print('Your card: ', encrypt)"
   ]
  },
  {
   "cell_type": "markdown",
   "metadata": {},
   "source": []
  }
 ],
 "metadata": {
  "kernelspec": {
   "display_name": "Python 3.10.5 64-bit",
   "language": "python",
   "name": "python3"
  },
  "language_info": {
   "codemirror_mode": {
    "name": "ipython",
    "version": 3
   },
   "file_extension": ".py",
   "mimetype": "text/x-python",
   "name": "python",
   "nbconvert_exporter": "python",
   "pygments_lexer": "ipython3",
   "version": "3.10.5"
  },
  "orig_nbformat": 4,
  "vscode": {
   "interpreter": {
    "hash": "3e6eaf00392b0cb8b5a646d3515e821c15d6342d64f11192f7e7dc8c1b273a06"
   }
  }
 },
 "nbformat": 4,
 "nbformat_minor": 2
}
