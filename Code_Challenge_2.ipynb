{
 "cells": [
  {
   "cell_type": "markdown",
   "metadata": {},
   "source": [
    "# 2020/12/4 Code Challenge"
   ]
  },
  {
   "cell_type": "code",
   "execution_count": 1,
   "metadata": {},
   "outputs": [
    {
     "name": "stdout",
     "output_type": "stream",
     "text": [
      "[911, 996, 928]\n"
     ]
    }
   ],
   "source": [
    "# list all duplicates in list\n",
    "\n",
    "list1 = [911, 996, 928, 944, 911, 996, 911, 928, 356]\n",
    "\n",
    "list2 = []\n",
    "\n",
    "for x in list1:\n",
    "    if (list1.count(x) >= 2) and (x not in list2):\n",
    "        list2.append(x)\n",
    "\n",
    "print(list2)"
   ]
  },
  {
   "cell_type": "markdown",
   "metadata": {},
   "source": [
    "# 2020/12/4 Code Challenge"
   ]
  },
  {
   "cell_type": "code",
   "execution_count": 2,
   "metadata": {},
   "outputs": [
    {
     "data": {
      "text/plain": [
       "{'may': 167, 'jun': 216, 'jul': 286, 'aug': 498}"
      ]
     },
     "execution_count": 2,
     "metadata": {},
     "output_type": "execute_result"
    }
   ],
   "source": [
    "# create dictionary from two lists\n",
    "\n",
    "list1 = ['may', 'jun', 'jul', 'aug']\n",
    "list2 = [167, 216, 286, 498]\n",
    "\n",
    "dict(zip(list1, list2))"
   ]
  },
  {
   "cell_type": "markdown",
   "metadata": {},
   "source": [
    "# 2020/12/7 Code Challenge"
   ]
  },
  {
   "cell_type": "code",
   "execution_count": 25,
   "metadata": {},
   "outputs": [
    {
     "data": {
      "text/plain": [
       "[2, 4, 6, 10, 3, 17, 19, 20, 63, 42, 32, 30]"
      ]
     },
     "execution_count": 25,
     "metadata": {},
     "output_type": "execute_result"
    }
   ],
   "source": [
    "# Flatten the list of lists\n",
    "\n",
    "list1 = [[2, 4, 6], 10, 3, [17,19,20], [63,42,32,30]]\n",
    "\n",
    "list2 = []\n",
    "\n",
    "for x in list1:\n",
    "    if isinstance(x, list):\n",
    "        list2 += x\n",
    "    else:\n",
    "        list2.append(x)\n",
    "    \n",
    "list2"
   ]
  }
 ],
 "metadata": {
  "kernelspec": {
   "display_name": "Python 3.10.5 64-bit",
   "language": "python",
   "name": "python3"
  },
  "language_info": {
   "codemirror_mode": {
    "name": "ipython",
    "version": 3
   },
   "file_extension": ".py",
   "mimetype": "text/x-python",
   "name": "python",
   "nbconvert_exporter": "python",
   "pygments_lexer": "ipython3",
   "version": "3.10.5"
  },
  "orig_nbformat": 4,
  "vscode": {
   "interpreter": {
    "hash": "a42ccb73e7d9bfdf27e036f1d2b8b681e55fc0743cc5586bc2474d4a60f4b886"
   }
  }
 },
 "nbformat": 4,
 "nbformat_minor": 2
}
