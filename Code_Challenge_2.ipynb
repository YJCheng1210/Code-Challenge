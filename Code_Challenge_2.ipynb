{
 "cells": [
  {
   "cell_type": "markdown",
   "metadata": {},
   "source": [
    "# 2020/12/4 Code Challenge"
   ]
  },
  {
   "cell_type": "code",
   "execution_count": 1,
   "metadata": {},
   "outputs": [
    {
     "name": "stdout",
     "output_type": "stream",
     "text": [
      "[911, 996, 928]\n"
     ]
    }
   ],
   "source": [
    "# list all duplicates in list\n",
    "\n",
    "list1 = [911, 996, 928, 944, 911, 996, 911, 928, 356]\n",
    "\n",
    "list2 = []\n",
    "\n",
    "for x in list1:\n",
    "    if (list1.count(x) >= 2) and (x not in list2):\n",
    "        list2.append(x)\n",
    "\n",
    "print(list2)"
   ]
  },
  {
   "cell_type": "markdown",
   "metadata": {},
   "source": [
    "# 2020/12/4 Code Challenge"
   ]
  },
  {
   "cell_type": "code",
   "execution_count": 2,
   "metadata": {},
   "outputs": [
    {
     "data": {
      "text/plain": [
       "{'may': 167, 'jun': 216, 'jul': 286, 'aug': 498}"
      ]
     },
     "execution_count": 2,
     "metadata": {},
     "output_type": "execute_result"
    }
   ],
   "source": [
    "# create dictionary from two lists\n",
    "\n",
    "list1 = ['may', 'jun', 'jul', 'aug']\n",
    "list2 = [167, 216, 286, 498]\n",
    "\n",
    "dict(zip(list1, list2))"
   ]
  },
  {
   "cell_type": "markdown",
   "metadata": {},
   "source": [
    "# 2020/12/7 Code Challenge"
   ]
  },
  {
   "cell_type": "code",
   "execution_count": 25,
   "metadata": {},
   "outputs": [
    {
     "data": {
      "text/plain": [
       "[2, 4, 6, 10, 3, 17, 19, 20, 63, 42, 32, 30]"
      ]
     },
     "execution_count": 25,
     "metadata": {},
     "output_type": "execute_result"
    }
   ],
   "source": [
    "# Flatten the list of lists\n",
    "\n",
    "list1 = [[2, 4, 6], 10, 3, [17,19,20], [63,42,32,30]]\n",
    "\n",
    "list2 = []\n",
    "\n",
    "for x in list1:\n",
    "    if isinstance(x, list):\n",
    "        list2 += x\n",
    "    else:\n",
    "        list2.append(x)\n",
    "    \n",
    "list2"
   ]
  },
  {
   "cell_type": "markdown",
   "metadata": {},
   "source": [
    "# 2020/12/11 Code Challenge"
   ]
  },
  {
   "cell_type": "code",
   "execution_count": 2,
   "metadata": {},
   "outputs": [
    {
     "name": "stdout",
     "output_type": "stream",
     "text": [
      "[2, 4, 9] [3, 4, 8] [3, 6, 6] [3, 5, 7] [4, 2, 9] [4, 5, 6] [4, 9, 2] [4, 7, 4] [4, 6, 5] [5, 2, 8] [5, 8, 2] [5, 6, 4] [6, 7, 2] [6, 5, 4] [7, 6, 2]\n"
     ]
    }
   ],
   "source": [
    "# Each number in list is a group of that many friends\n",
    "# Print all combinations of 3 groups that will fill\n",
    "# 15 seat bus, No duplication of combinations\n",
    "\n",
    "from itertools import combinations\n",
    "\n",
    "input1 = [3, 4, 6, 5, 7, 6, 2, 4, 9, 8, 2]\n",
    "seq = set(list(combinations(input1, 3)))\n",
    "eq = (lambda x: x[0] + x[1] + x[2] == 15)\n",
    "results = list(filter(eq, seq))\n",
    "output1 = [list(result) for result in results]\n",
    "output1 = sorted(output1, key=lambda e: e[0])\n",
    "\n",
    "print(*output1)"
   ]
  },
  {
   "cell_type": "markdown",
   "metadata": {},
   "source": [
    "# 2020/12/14"
   ]
  },
  {
   "cell_type": "code",
   "execution_count": 5,
   "metadata": {},
   "outputs": [
    {
     "data": {
      "text/plain": [
       "[[1, 3, 5, 7], [2, 4, 6, 8]]"
      ]
     },
     "execution_count": 5,
     "metadata": {},
     "output_type": "execute_result"
    }
   ],
   "source": [
    "# Transpose & print the List of lists (matrix)\n",
    "\n",
    "input1 = [[1, 2], [3, 4], [5, 6], [7, 8]]\n",
    "\n",
    "# output: [[1, 3, 5, 7], [2, 4, 6, 8]]\n",
    "\n",
    "list1 = []\n",
    "list2 = []\n",
    "\n",
    "for i in range(len(input1)):\n",
    "    list1.append(input1[i][0])\n",
    "    list2.append(input1[i][1])\n",
    "\n",
    "[list1, list2]"
   ]
  },
  {
   "cell_type": "markdown",
   "metadata": {},
   "source": [
    "# 2020/12/15"
   ]
  },
  {
   "cell_type": "code",
   "execution_count": 7,
   "metadata": {},
   "outputs": [
    {
     "name": "stdout",
     "output_type": "stream",
     "text": [
      "Factors are: 15(1, 3, 5, 15), 21(1, 3, 7, 21), 42(1, 2, 3, 6, 7, 14, 21, 42), "
     ]
    }
   ],
   "source": [
    "# Print the factors of number\n",
    "\n",
    "input1 = [15, 21, 42]\n",
    "\n",
    "print('Factors are: ', end = '')\n",
    "\n",
    "for i in range(0, len(input1)):\n",
    "    print(f'{input1[i]}{tuple([f for f in range(1, input1[i]+1) if input1[i] % f == 0])}', end = ', ')"
   ]
  },
  {
   "cell_type": "markdown",
   "metadata": {},
   "source": [
    "# 2020/12/18"
   ]
  },
  {
   "cell_type": "code",
   "execution_count": 8,
   "metadata": {},
   "outputs": [
    {
     "name": "stdout",
     "output_type": "stream",
     "text": [
      "Eric has [23, 31, 56, 24, 42]\n",
      "John has ['France', 'United States', 'Bangledesh', 'Brazil']\n",
      "Terry has ['Paris', 56, 'New York', 5, 'Dhaka', 17, 'Rio', 'Ipanema']\n"
     ]
    }
   ],
   "source": [
    "# Get the right person, the right table to work with\n",
    "# Eric with numbers. John with strings and Terry with mixes\n",
    "# print as shown\n",
    "\n",
    "input1 = [[23, 31, 56], ['France', 'United States'], ['Paris', 56, 'New York', 5],\n",
    "        ['Bangledesh', 'Brazil'], [24, 42], ['Dhaka', 17, 'Rio', 'Ipanema']]\n",
    "\n",
    "eric = []\n",
    "john = []\n",
    "terry = []\n",
    "\n",
    "for x in input1:\n",
    "    same_type = True\n",
    "    for i in x:\n",
    "        if type(i) != type(x[0]):\n",
    "            same_type = False\n",
    "            break\n",
    "    if same_type:\n",
    "        if isinstance(x[0], int):\n",
    "            eric += x\n",
    "        else:\n",
    "            john += x\n",
    "    else:\n",
    "        terry += x\n",
    "    \n",
    "print('Eric has', eric)\n",
    "print('John has', john)\n",
    "print('Terry has', terry)"
   ]
  },
  {
   "cell_type": "markdown",
   "metadata": {},
   "source": [
    "# 2020/12/19 Code Challenge"
   ]
  },
  {
   "cell_type": "code",
   "execution_count": 15,
   "metadata": {},
   "outputs": [
    {
     "name": "stdout",
     "output_type": "stream",
     "text": [
      "Largest/2nd largest numbers: 8543 8534\n"
     ]
    }
   ],
   "source": [
    "# Create largest & 2nd largest possible number\n",
    "# using digits from any 4 digits\n",
    "\n",
    "input1 = 4358\n",
    "\n",
    "input1 = [x for x in str(input1)]\n",
    "\n",
    "largest_list = sorted(input1, reverse=True)\n",
    "\n",
    "largest_str = ''\n",
    "second_str = ''\n",
    "\n",
    "for x in largest_list:\n",
    "    largest_str += x\n",
    "\n",
    "for x in largest_list[:-2]:\n",
    "    second_str += x\n",
    "second_str = second_str + largest_list[-1] + largest_str[-2]\n",
    "\n",
    "print('Largest/2nd largest numbers:', int(largest_str), int(second_str))"
   ]
  },
  {
   "cell_type": "markdown",
   "metadata": {},
   "source": [
    "# 2020/12/20 Code Challenge"
   ]
  },
  {
   "cell_type": "code",
   "execution_count": 16,
   "metadata": {},
   "outputs": [
    {
     "name": "stdout",
     "output_type": "stream",
     "text": [
      "Boarding order:  11A, 10B, 9B, 8A, 8C, 7C, 6D, 6A, 6B, 4C, 2B, 1B, "
     ]
    }
   ],
   "source": [
    "# You are boarding passenger onto plane (in non-covid times)\n",
    "# Print boarding list, arrange passengers as efficiently as\n",
    "# possible, boarding passengers further back (higher number) first\n",
    "\n",
    "input1 = ['8A', '2B', '6D', '4C', '1B', '7C', '10B', '6A', '8C', '11A', '9B', '6B']\n",
    "input2 = []\n",
    "\n",
    "for x in input1:\n",
    "    line, seat = x[:-1:], x[-1]\n",
    "    input2.append([line, seat])\n",
    "\n",
    "input2 = sorted(input2, key = lambda x : int(x[0]),reverse=True)\n",
    "\n",
    "print('Boarding order: ', end = ' ')\n",
    "for x in input2:\n",
    "    print(x[0]+x[1], end= ', ')"
   ]
  },
  {
   "cell_type": "markdown",
   "metadata": {},
   "source": [
    "# 2021/1/2 Code Challenge"
   ]
  },
  {
   "cell_type": "code",
   "execution_count": 18,
   "metadata": {},
   "outputs": [
    {
     "name": "stdout",
     "output_type": "stream",
     "text": [
      "in range [56, 67, 87, 85, 76, 65, 78, 86, 73, 83, 88]\n",
      "out of range [93, 49, 30]\n"
     ]
    }
   ],
   "source": [
    "# Check if all the numbers in the lists are within\n",
    "# the 50-90 range (49 < x < 90)\n",
    "\n",
    "list1 = [56, 67, 87, 93, 49, 30, 85]\n",
    "list2 = [76, 65, 78, 86, 73, 83, 88]\n",
    "\n",
    "result1 = []\n",
    "result2 = []\n",
    "\n",
    "for x in list1+list2:\n",
    "    if (x > 49) and (x < 90):\n",
    "        result1.append(x)\n",
    "    else:\n",
    "        result2.append(x)\n",
    "\n",
    "print('in range', result1)\n",
    "print('out of range', result2)"
   ]
  },
  {
   "cell_type": "markdown",
   "metadata": {},
   "source": [
    "# 2021/1/10 Code Challenge"
   ]
  },
  {
   "cell_type": "code",
   "execution_count": 21,
   "metadata": {},
   "outputs": [
    {
     "name": "stdout",
     "output_type": "stream",
     "text": [
      "Oct 1st: Value: 3198, Return On Investment(ROI): 219%\n"
     ]
    }
   ],
   "source": [
    "# You bought Tesla Stock for 1000 USD March 1st and want to \n",
    "# calculate total value and return on investment Oct 1st.\n",
    "# The list holds the %-gains month by month\n",
    "\n",
    "monthly = [['mar', -21.6], ['apr', 48.6], ['may', 7], ['jun', 29.3],\n",
    "           ['jul', 32.4], ['aug', 74.1], ['sep', -13.9]]\n",
    "\n",
    "amount = 1000\n",
    "roi = 1.0\n",
    "\n",
    "for x in monthly:\n",
    "    roi *= (1 + x[1] / 100)\n",
    "\n",
    "print(f'Oct 1st: Value: {int(amount*roi)}, Return On Investment(ROI): {int(100 * (roi-1))}%')"
   ]
  },
  {
   "cell_type": "markdown",
   "metadata": {},
   "source": [
    "# 2021/4/11 Code Challenge"
   ]
  },
  {
   "cell_type": "code",
   "execution_count": 11,
   "metadata": {},
   "outputs": [
    {
     "name": "stdout",
     "output_type": "stream",
     "text": [
      "Longest substring prefix is *str*\n"
     ]
    }
   ],
   "source": [
    "# Write code to output longest substring common\n",
    "# to all strings. Lower / uppercase are same\n",
    "\n",
    "input1 = ['String', 'Strike', 'stroke', 'stride']\n",
    "\n",
    "input1 = [x.lower() for x in input1]\n",
    "\n",
    "same_str = True\n",
    "\n",
    "compare_str = input1[0]\n",
    "\n",
    "for i in range(len(compare_str)):\n",
    "    for j in range(1, len(input1)):\n",
    "        if compare_str[:i:] != input1[j][:i:]:\n",
    "            same_str = False\n",
    "    if not same_str:\n",
    "        break\n",
    "\n",
    "print(f'Longest substring prefix is *{compare_str[:i-1:]}*')"
   ]
  }
 ],
 "metadata": {
  "kernelspec": {
   "display_name": "Python 3.10.5 64-bit",
   "language": "python",
   "name": "python3"
  },
  "language_info": {
   "codemirror_mode": {
    "name": "ipython",
    "version": 3
   },
   "file_extension": ".py",
   "mimetype": "text/x-python",
   "name": "python",
   "nbconvert_exporter": "python",
   "pygments_lexer": "ipython3",
   "version": "3.10.5"
  },
  "orig_nbformat": 4,
  "vscode": {
   "interpreter": {
    "hash": "3e6eaf00392b0cb8b5a646d3515e821c15d6342d64f11192f7e7dc8c1b273a06"
   }
  }
 },
 "nbformat": 4,
 "nbformat_minor": 2
}
