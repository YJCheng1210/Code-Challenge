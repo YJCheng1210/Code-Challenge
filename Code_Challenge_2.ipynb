{
 "cells": [
  {
   "cell_type": "markdown",
   "metadata": {},
   "source": [
    "# 2020/12/4 Code Challenge"
   ]
  },
  {
   "cell_type": "code",
   "execution_count": 1,
   "metadata": {},
   "outputs": [
    {
     "name": "stdout",
     "output_type": "stream",
     "text": [
      "[911, 996, 928]\n"
     ]
    }
   ],
   "source": [
    "# list all duplicates in list\n",
    "\n",
    "list1 = [911, 996, 928, 944, 911, 996, 911, 928, 356]\n",
    "\n",
    "list2 = []\n",
    "\n",
    "for x in list1:\n",
    "    if (list1.count(x) >= 2) and (x not in list2):\n",
    "        list2.append(x)\n",
    "\n",
    "print(list2)"
   ]
  },
  {
   "cell_type": "markdown",
   "metadata": {},
   "source": [
    "# 2020/12/4 Code Challenge"
   ]
  },
  {
   "cell_type": "code",
   "execution_count": 2,
   "metadata": {},
   "outputs": [
    {
     "data": {
      "text/plain": [
       "{'may': 167, 'jun': 216, 'jul': 286, 'aug': 498}"
      ]
     },
     "execution_count": 2,
     "metadata": {},
     "output_type": "execute_result"
    }
   ],
   "source": [
    "# create dictionary from two lists\n",
    "\n",
    "list1 = ['may', 'jun', 'jul', 'aug']\n",
    "list2 = [167, 216, 286, 498]\n",
    "\n",
    "dict(zip(list1, list2))"
   ]
  },
  {
   "cell_type": "markdown",
   "metadata": {},
   "source": [
    "# 2020/12/7 Code Challenge"
   ]
  },
  {
   "cell_type": "code",
   "execution_count": 25,
   "metadata": {},
   "outputs": [
    {
     "data": {
      "text/plain": [
       "[2, 4, 6, 10, 3, 17, 19, 20, 63, 42, 32, 30]"
      ]
     },
     "execution_count": 25,
     "metadata": {},
     "output_type": "execute_result"
    }
   ],
   "source": [
    "# Flatten the list of lists\n",
    "\n",
    "list1 = [[2, 4, 6], 10, 3, [17,19,20], [63,42,32,30]]\n",
    "\n",
    "list2 = []\n",
    "\n",
    "for x in list1:\n",
    "    if isinstance(x, list):\n",
    "        list2 += x\n",
    "    else:\n",
    "        list2.append(x)\n",
    "    \n",
    "list2"
   ]
  },
  {
   "cell_type": "markdown",
   "metadata": {},
   "source": [
    "# 2020/12/11 Code Challenge"
   ]
  },
  {
   "cell_type": "code",
   "execution_count": 2,
   "metadata": {},
   "outputs": [
    {
     "name": "stdout",
     "output_type": "stream",
     "text": [
      "[2, 4, 9] [3, 4, 8] [3, 6, 6] [3, 5, 7] [4, 2, 9] [4, 5, 6] [4, 9, 2] [4, 7, 4] [4, 6, 5] [5, 2, 8] [5, 8, 2] [5, 6, 4] [6, 7, 2] [6, 5, 4] [7, 6, 2]\n"
     ]
    }
   ],
   "source": [
    "# Each number in list is a group of that many friends\n",
    "# Print all combinations of 3 groups that will fill\n",
    "# 15 seat bus, No duplication of combinations\n",
    "\n",
    "from itertools import combinations\n",
    "\n",
    "input1 = [3, 4, 6, 5, 7, 6, 2, 4, 9, 8, 2]\n",
    "seq = set(list(combinations(input1, 3)))\n",
    "eq = (lambda x: x[0] + x[1] + x[2] == 15)\n",
    "results = list(filter(eq, seq))\n",
    "output1 = [list(result) for result in results]\n",
    "output1 = sorted(output1, key=lambda e: e[0])\n",
    "\n",
    "print(*output1)"
   ]
  },
  {
   "cell_type": "markdown",
   "metadata": {},
   "source": [
    "# 2020/12/14"
   ]
  },
  {
   "cell_type": "code",
   "execution_count": 5,
   "metadata": {},
   "outputs": [
    {
     "data": {
      "text/plain": [
       "[[1, 3, 5, 7], [2, 4, 6, 8]]"
      ]
     },
     "execution_count": 5,
     "metadata": {},
     "output_type": "execute_result"
    }
   ],
   "source": [
    "# Transpose & print the List of lists (matrix)\n",
    "\n",
    "input1 = [[1, 2], [3, 4], [5, 6], [7, 8]]\n",
    "\n",
    "# output: [[1, 3, 5, 7], [2, 4, 6, 8]]\n",
    "\n",
    "list1 = []\n",
    "list2 = []\n",
    "\n",
    "for i in range(len(input1)):\n",
    "    list1.append(input1[i][0])\n",
    "    list2.append(input1[i][1])\n",
    "\n",
    "[list1, list2]"
   ]
  },
  {
   "cell_type": "markdown",
   "metadata": {},
   "source": [
    "# 2020/12/15"
   ]
  },
  {
   "cell_type": "code",
   "execution_count": 7,
   "metadata": {},
   "outputs": [
    {
     "name": "stdout",
     "output_type": "stream",
     "text": [
      "Factors are: 15(1, 3, 5, 15), 21(1, 3, 7, 21), 42(1, 2, 3, 6, 7, 14, 21, 42), "
     ]
    }
   ],
   "source": [
    "# Print the factors of number\n",
    "\n",
    "input1 = [15, 21, 42]\n",
    "\n",
    "print('Factors are: ', end = '')\n",
    "\n",
    "for i in range(0, len(input1)):\n",
    "    print(f'{input1[i]}{tuple([f for f in range(1, input1[i]+1) if input1[i] % f == 0])}', end = ', ')"
   ]
  },
  {
   "cell_type": "markdown",
   "metadata": {},
   "source": [
    "# 2020/12/18"
   ]
  },
  {
   "cell_type": "code",
   "execution_count": 8,
   "metadata": {},
   "outputs": [
    {
     "name": "stdout",
     "output_type": "stream",
     "text": [
      "Eric has [23, 31, 56, 24, 42]\n",
      "John has ['France', 'United States', 'Bangledesh', 'Brazil']\n",
      "Terry has ['Paris', 56, 'New York', 5, 'Dhaka', 17, 'Rio', 'Ipanema']\n"
     ]
    }
   ],
   "source": [
    "# Get the right person, the right table to work with\n",
    "# Eric with numbers. John with strings and Terry with mixes\n",
    "# print as shown\n",
    "\n",
    "input1 = [[23, 31, 56], ['France', 'United States'], ['Paris', 56, 'New York', 5],\n",
    "        ['Bangledesh', 'Brazil'], [24, 42], ['Dhaka', 17, 'Rio', 'Ipanema']]\n",
    "\n",
    "eric = []\n",
    "john = []\n",
    "terry = []\n",
    "\n",
    "for x in input1:\n",
    "    same_type = True\n",
    "    for i in x:\n",
    "        if type(i) != type(x[0]):\n",
    "            same_type = False\n",
    "            break\n",
    "    if same_type:\n",
    "        if isinstance(x[0], int):\n",
    "            eric += x\n",
    "        else:\n",
    "            john += x\n",
    "    else:\n",
    "        terry += x\n",
    "    \n",
    "print('Eric has', eric)\n",
    "print('John has', john)\n",
    "print('Terry has', terry)"
   ]
  },
  {
   "cell_type": "markdown",
   "metadata": {},
   "source": [
    "# 2020/12/19 Code Challenge"
   ]
  },
  {
   "cell_type": "code",
   "execution_count": 15,
   "metadata": {},
   "outputs": [
    {
     "name": "stdout",
     "output_type": "stream",
     "text": [
      "Largest/2nd largest numbers: 8543 8534\n"
     ]
    }
   ],
   "source": [
    "# Create largest & 2nd largest possible number\n",
    "# using digits from any 4 digits\n",
    "\n",
    "input1 = 4358\n",
    "\n",
    "input1 = [x for x in str(input1)]\n",
    "\n",
    "largest_list = sorted(input1, reverse=True)\n",
    "\n",
    "largest_str = ''\n",
    "second_str = ''\n",
    "\n",
    "for x in largest_list:\n",
    "    largest_str += x\n",
    "\n",
    "for x in largest_list[:-2]:\n",
    "    second_str += x\n",
    "second_str = second_str + largest_list[-1] + largest_str[-2]\n",
    "\n",
    "print('Largest/2nd largest numbers:', int(largest_str), int(second_str))"
   ]
  },
  {
   "cell_type": "markdown",
   "metadata": {},
   "source": []
  }
 ],
 "metadata": {
  "kernelspec": {
   "display_name": "Python 3.10.5 64-bit",
   "language": "python",
   "name": "python3"
  },
  "language_info": {
   "codemirror_mode": {
    "name": "ipython",
    "version": 3
   },
   "file_extension": ".py",
   "mimetype": "text/x-python",
   "name": "python",
   "nbconvert_exporter": "python",
   "pygments_lexer": "ipython3",
   "version": "3.10.5"
  },
  "orig_nbformat": 4,
  "vscode": {
   "interpreter": {
    "hash": "a42ccb73e7d9bfdf27e036f1d2b8b681e55fc0743cc5586bc2474d4a60f4b886"
   }
  }
 },
 "nbformat": 4,
 "nbformat_minor": 2
}
